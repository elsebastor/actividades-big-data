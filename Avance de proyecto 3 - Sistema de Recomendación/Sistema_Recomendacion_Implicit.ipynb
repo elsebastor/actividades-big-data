{
 "cells": [
  {
   "cell_type": "markdown",
   "id": "99af240c",
   "metadata": {},
   "source": [
    "# Sistema de recomendacion de prendas basado en Implicit"
   ]
  },
  {
   "cell_type": "code",
   "execution_count": 7,
   "id": "52133315",
   "metadata": {},
   "outputs": [],
   "source": [
    "# librerías\n",
    "\n",
    "import numpy as np\n",
    "import pandas as pd\n",
    "from scipy.sparse import csr_matrix\n",
    "\n",
    "import implicit\n",
    "\n",
    "import warnings\n",
    "warnings.simplefilter(action='ignore', category=FutureWarning)"
   ]
  },
  {
   "cell_type": "code",
   "execution_count": 8,
   "id": "3ff0acac",
   "metadata": {},
   "outputs": [],
   "source": [
    "#!pip install implicit"
   ]
  },
  {
   "cell_type": "markdown",
   "id": "1c20e6a2",
   "metadata": {},
   "source": [
    "## Paso 2: Cargando los datos"
   ]
  },
  {
   "cell_type": "markdown",
   "id": "c979b08e",
   "metadata": {},
   "source": [
    "Se cargan los datos de nuestro data set para análisis de registros de prendas"
   ]
  },
  {
   "cell_type": "code",
   "execution_count": 10,
   "id": "7715594e",
   "metadata": {},
   "outputs": [
    {
     "data": {
      "text/html": [
       "<div>\n",
       "<style scoped>\n",
       "    .dataframe tbody tr th:only-of-type {\n",
       "        vertical-align: middle;\n",
       "    }\n",
       "\n",
       "    .dataframe tbody tr th {\n",
       "        vertical-align: top;\n",
       "    }\n",
       "\n",
       "    .dataframe thead th {\n",
       "        text-align: right;\n",
       "    }\n",
       "</style>\n",
       "<table border=\"1\" class=\"dataframe\">\n",
       "  <thead>\n",
       "    <tr style=\"text-align: right;\">\n",
       "      <th></th>\n",
       "      <th>fit</th>\n",
       "      <th>user_id</th>\n",
       "      <th>bust size</th>\n",
       "      <th>item_id</th>\n",
       "      <th>weight</th>\n",
       "      <th>rating</th>\n",
       "      <th>rented for</th>\n",
       "      <th>review_text</th>\n",
       "      <th>body type</th>\n",
       "      <th>review_summary</th>\n",
       "      <th>category</th>\n",
       "      <th>height</th>\n",
       "      <th>size</th>\n",
       "      <th>age</th>\n",
       "      <th>review_date</th>\n",
       "    </tr>\n",
       "  </thead>\n",
       "  <tbody>\n",
       "    <tr>\n",
       "      <th>341</th>\n",
       "      <td>fit</td>\n",
       "      <td>815707</td>\n",
       "      <td>34b</td>\n",
       "      <td>2960913</td>\n",
       "      <td>NaN</td>\n",
       "      <td>10.0</td>\n",
       "      <td>other</td>\n",
       "      <td>I rented this as a piece to wear on my birthda...</td>\n",
       "      <td>pear</td>\n",
       "      <td>Love this skirt</td>\n",
       "      <td>skirt</td>\n",
       "      <td>5' 5\"</td>\n",
       "      <td>24</td>\n",
       "      <td>35.0</td>\n",
       "      <td>December 4, 2017</td>\n",
       "    </tr>\n",
       "    <tr>\n",
       "      <th>648</th>\n",
       "      <td>large</td>\n",
       "      <td>749956</td>\n",
       "      <td>NaN</td>\n",
       "      <td>1288868</td>\n",
       "      <td>NaN</td>\n",
       "      <td>10.0</td>\n",
       "      <td>date</td>\n",
       "      <td>Fits larger in the body but it's intended to h...</td>\n",
       "      <td>full bust</td>\n",
       "      <td>Cute flounce hem at the bottom and slight ruff...</td>\n",
       "      <td>dress</td>\n",
       "      <td>5' 2\"</td>\n",
       "      <td>16</td>\n",
       "      <td>29.0</td>\n",
       "      <td>June 14, 2017</td>\n",
       "    </tr>\n",
       "    <tr>\n",
       "      <th>677</th>\n",
       "      <td>fit</td>\n",
       "      <td>317637</td>\n",
       "      <td>32d</td>\n",
       "      <td>2489222</td>\n",
       "      <td>120lbs</td>\n",
       "      <td>10.0</td>\n",
       "      <td>everyday</td>\n",
       "      <td>This looked great and provided an extra layer ...</td>\n",
       "      <td>hourglass</td>\n",
       "      <td>Great look</td>\n",
       "      <td>cape</td>\n",
       "      <td>5' 4\"</td>\n",
       "      <td>8</td>\n",
       "      <td>48.0</td>\n",
       "      <td>November 10, 2017</td>\n",
       "    </tr>\n",
       "    <tr>\n",
       "      <th>798</th>\n",
       "      <td>fit</td>\n",
       "      <td>965639</td>\n",
       "      <td>34b</td>\n",
       "      <td>291513</td>\n",
       "      <td>160lbs</td>\n",
       "      <td>8.0</td>\n",
       "      <td>wedding</td>\n",
       "      <td>Great LBD. Loved all my photos in it. 4 stars ...</td>\n",
       "      <td>hourglass</td>\n",
       "      <td>Great thick fabric, fits true to size (for the...</td>\n",
       "      <td>dress</td>\n",
       "      <td>5' 6\"</td>\n",
       "      <td>16</td>\n",
       "      <td>27.0</td>\n",
       "      <td>November 21, 2017</td>\n",
       "    </tr>\n",
       "    <tr>\n",
       "      <th>1005</th>\n",
       "      <td>fit</td>\n",
       "      <td>981306</td>\n",
       "      <td>32b</td>\n",
       "      <td>1041724</td>\n",
       "      <td>125lbs</td>\n",
       "      <td>10.0</td>\n",
       "      <td>wedding</td>\n",
       "      <td>I wore the medium which was my back up size.  ...</td>\n",
       "      <td>petite</td>\n",
       "      <td>This dress is made for dancing!</td>\n",
       "      <td>dress</td>\n",
       "      <td>5' 3\"</td>\n",
       "      <td>14</td>\n",
       "      <td>50.0</td>\n",
       "      <td>December 30, 2017</td>\n",
       "    </tr>\n",
       "  </tbody>\n",
       "</table>\n",
       "</div>"
      ],
      "text/plain": [
       "        fit  user_id bust size  item_id  weight  rating rented for  \\\n",
       "341     fit   815707       34b  2960913     NaN    10.0      other   \n",
       "648   large   749956       NaN  1288868     NaN    10.0       date   \n",
       "677     fit   317637       32d  2489222  120lbs    10.0   everyday   \n",
       "798     fit   965639       34b   291513  160lbs     8.0    wedding   \n",
       "1005    fit   981306       32b  1041724  125lbs    10.0    wedding   \n",
       "\n",
       "                                            review_text  body type  \\\n",
       "341   I rented this as a piece to wear on my birthda...       pear   \n",
       "648   Fits larger in the body but it's intended to h...  full bust   \n",
       "677   This looked great and provided an extra layer ...  hourglass   \n",
       "798   Great LBD. Loved all my photos in it. 4 stars ...  hourglass   \n",
       "1005  I wore the medium which was my back up size.  ...     petite   \n",
       "\n",
       "                                         review_summary category height  size  \\\n",
       "341                                     Love this skirt    skirt  5' 5\"    24   \n",
       "648   Cute flounce hem at the bottom and slight ruff...    dress  5' 2\"    16   \n",
       "677                                          Great look     cape  5' 4\"     8   \n",
       "798   Great thick fabric, fits true to size (for the...    dress  5' 6\"    16   \n",
       "1005                    This dress is made for dancing!    dress  5' 3\"    14   \n",
       "\n",
       "       age        review_date  \n",
       "341   35.0   December 4, 2017  \n",
       "648   29.0      June 14, 2017  \n",
       "677   48.0  November 10, 2017  \n",
       "798   27.0  November 21, 2017  \n",
       "1005  50.0  December 30, 2017  "
      ]
     },
     "execution_count": 10,
     "metadata": {},
     "output_type": "execute_result"
    }
   ],
   "source": [
    "'''\n",
    "    Cargamos nuestro data set con los rankins\n",
    "    \n",
    "    Como podemos ver contiene las columnas: \n",
    "        fit: fit feedback\n",
    "        user_id: a unique id for the customer\n",
    "        bust: bust measurement of customer\n",
    "        item_id: unique product id\n",
    "        weight: weight of the product\n",
    "        rating: dating of the product 0-10\n",
    "        rented for: reason of rent\n",
    "        review_text: customer comments\n",
    "        body type: clothe body type\n",
    "        review_summary: short customer comments\n",
    "        category: the category of the product\n",
    "        height: height of the customer\n",
    "        size: the standardized size of the product\n",
    "        age: customer age\n",
    "        review_date: date of review\n",
    "'''\n",
    "\n",
    "my_dt = pd.read_json('renttherunway_final_data.json', lines=True).drop_duplicates(keep=\"last\", subset=['item_id'])\n",
    "my_dt.head(5)"
   ]
  },
  {
   "cell_type": "markdown",
   "id": "b553edf1",
   "metadata": {},
   "source": [
    "Se genera un dataset solo con los datos necesarios para el análisis"
   ]
  },
  {
   "cell_type": "code",
   "execution_count": 81,
   "id": "ad69ac1e",
   "metadata": {},
   "outputs": [
    {
     "data": {
      "text/html": [
       "<div>\n",
       "<style scoped>\n",
       "    .dataframe tbody tr th:only-of-type {\n",
       "        vertical-align: middle;\n",
       "    }\n",
       "\n",
       "    .dataframe tbody tr th {\n",
       "        vertical-align: top;\n",
       "    }\n",
       "\n",
       "    .dataframe thead th {\n",
       "        text-align: right;\n",
       "    }\n",
       "</style>\n",
       "<table border=\"1\" class=\"dataframe\">\n",
       "  <thead>\n",
       "    <tr style=\"text-align: right;\">\n",
       "      <th></th>\n",
       "      <th>user_id</th>\n",
       "      <th>item_id</th>\n",
       "      <th>rating</th>\n",
       "      <th>review_date</th>\n",
       "      <th>category</th>\n",
       "    </tr>\n",
       "  </thead>\n",
       "  <tbody>\n",
       "    <tr>\n",
       "      <th>341</th>\n",
       "      <td>815707</td>\n",
       "      <td>2960913</td>\n",
       "      <td>10.0</td>\n",
       "      <td>December 4, 2017</td>\n",
       "      <td>skirt</td>\n",
       "    </tr>\n",
       "    <tr>\n",
       "      <th>648</th>\n",
       "      <td>749956</td>\n",
       "      <td>1288868</td>\n",
       "      <td>10.0</td>\n",
       "      <td>June 14, 2017</td>\n",
       "      <td>dress</td>\n",
       "    </tr>\n",
       "    <tr>\n",
       "      <th>677</th>\n",
       "      <td>317637</td>\n",
       "      <td>2489222</td>\n",
       "      <td>10.0</td>\n",
       "      <td>November 10, 2017</td>\n",
       "      <td>cape</td>\n",
       "    </tr>\n",
       "    <tr>\n",
       "      <th>798</th>\n",
       "      <td>965639</td>\n",
       "      <td>291513</td>\n",
       "      <td>8.0</td>\n",
       "      <td>November 21, 2017</td>\n",
       "      <td>dress</td>\n",
       "    </tr>\n",
       "    <tr>\n",
       "      <th>1005</th>\n",
       "      <td>981306</td>\n",
       "      <td>1041724</td>\n",
       "      <td>10.0</td>\n",
       "      <td>December 30, 2017</td>\n",
       "      <td>dress</td>\n",
       "    </tr>\n",
       "  </tbody>\n",
       "</table>\n",
       "</div>"
      ],
      "text/plain": [
       "      user_id  item_id  rating        review_date category\n",
       "341    815707  2960913    10.0   December 4, 2017    skirt\n",
       "648    749956  1288868    10.0      June 14, 2017    dress\n",
       "677    317637  2489222    10.0  November 10, 2017     cape\n",
       "798    965639   291513     8.0  November 21, 2017    dress\n",
       "1005   981306  1041724    10.0  December 30, 2017    dress"
      ]
     },
     "execution_count": 81,
     "metadata": {},
     "output_type": "execute_result"
    }
   ],
   "source": [
    "columns = ['user_id','item_id','rating','review_date','category']\n",
    "clothes_df = my_dt.loc[:,columns]\n",
    "clothes_df.head(5)"
   ]
  },
  {
   "cell_type": "code",
   "execution_count": 60,
   "id": "db665b18",
   "metadata": {},
   "outputs": [
    {
     "name": "stdout",
     "output_type": "stream",
     "text": [
      "      user_id  conteo\n",
      "1692   362951      59\n",
      "3214   691468      23\n",
      "4625   981193      17\n",
      "3442   742630      17\n",
      "151     32925      16\n"
     ]
    }
   ],
   "source": [
    "# Contar registros por id\n",
    "conteo_por_id = clothes_df.groupby('user_id').size().reset_index(name='conteo')\n",
    "conteo_por_id_sorted = conteo_por_id.sort_values(by='conteo', ascending=False)\n",
    "print(conteo_por_id_sorted.head(5))"
   ]
  },
  {
   "cell_type": "markdown",
   "id": "ffd17d61",
   "metadata": {},
   "source": [
    "## Paso 3: Transformando los datos"
   ]
  },
  {
   "cell_type": "code",
   "execution_count": 83,
   "id": "e69caea6",
   "metadata": {},
   "outputs": [],
   "source": [
    "def create_X(df: pd.DataFrame):\n",
    "\n",
    "    N = df['user_id'].nunique()\n",
    "    M = df['item_id'].nunique()\n",
    "\n",
    "    user_mapper = dict(zip(np.unique(df[\"user_id\"]), list(range(N))))\n",
    "    clothe_mapper = dict(zip(np.unique(df[\"item_id\"]), list(range(M))))\n",
    "    \n",
    "    user_inv_mapper = dict(zip(list(range(N)), np.unique(df[\"user_id\"])))\n",
    "    clothe_inv_mapper = dict(zip(list(range(M)), np.unique(df[\"item_id\"])))\n",
    "    \n",
    "    user_index = [user_mapper[i] for i in df['user_id']]\n",
    "    clothe_index = [clothe_mapper[i] for i in df['item_id']]\n",
    "\n",
    "    X = csr_matrix((df[\"rating\"], (clothe_index, user_index)), shape=(M, N))\n",
    "    \n",
    "    return X, user_mapper, clothe_mapper, user_inv_mapper, clothe_inv_mapper"
   ]
  },
  {
   "cell_type": "code",
   "execution_count": 84,
   "id": "048ee823",
   "metadata": {},
   "outputs": [],
   "source": [
    "X, user_mapper, clothe_mapper, user_inv_mapper, clothe_inv_mapper = create_X(clothes_df)"
   ]
  },
  {
   "cell_type": "markdown",
   "id": "af83595a",
   "metadata": {},
   "source": [
    "### Creando los Mapeos de las categorías de las prendas"
   ]
  },
  {
   "cell_type": "code",
   "execution_count": 22,
   "id": "b4a0f209",
   "metadata": {},
   "outputs": [],
   "source": [
    "#!pip install fuzzywuzzy"
   ]
  },
  {
   "cell_type": "code",
   "execution_count": 85,
   "id": "0a6fee7c",
   "metadata": {},
   "outputs": [],
   "source": [
    "from fuzzywuzzy import process\n",
    "\n",
    "def clothe_finder(title):\n",
    "    all_titles = clothes_df['category'].tolist()\n",
    "    closest_match = process.extractOne(title,all_titles)\n",
    "    return closest_match[0]\n",
    "\n",
    "clothe_title_mapper = dict(zip(clothes_df['category'], clothes_df['item_id']))\n",
    "clothe_title_inv_mapper = dict(zip(clothes_df['item_id'], clothes_df['category']))\n",
    "\n",
    "def get_clothe_index(title):\n",
    "    fuzzy_title = clothe_finder(title)\n",
    "    clothe_id = clothe_title_mapper[fuzzy_title]\n",
    "    clothe_idx = clothe_mapper[clothe_id]\n",
    "    return clothe_idx\n",
    "\n",
    "def get_clothe_title(clothe_idx): \n",
    "    clothe_id = clothe_inv_mapper[clothe_idx]\n",
    "    title = clothe_title_inv_mapper[clothe_id]\n",
    "    return title "
   ]
  },
  {
   "cell_type": "code",
   "execution_count": 86,
   "id": "b5e9f5b7",
   "metadata": {},
   "outputs": [
    {
     "name": "stdout",
     "output_type": "stream",
     "text": [
      "2375866\n"
     ]
    }
   ],
   "source": [
    "print(clothe_inv_mapper[4587])"
   ]
  },
  {
   "cell_type": "markdown",
   "id": "42cb51d3",
   "metadata": {},
   "source": [
    "Vamos a probar esta funcion para obtener el indice de `2489222`. "
   ]
  },
  {
   "cell_type": "code",
   "execution_count": 87,
   "id": "a4fe0c0a",
   "metadata": {},
   "outputs": [
    {
     "data": {
      "text/plain": [
       "4587"
      ]
     },
     "execution_count": 87,
     "metadata": {},
     "output_type": "execute_result"
    }
   ],
   "source": [
    "get_clothe_index('2489222')"
   ]
  },
  {
   "cell_type": "markdown",
   "id": "d16c9df8",
   "metadata": {},
   "source": [
    "Utilizemos el indice obtenido con la funcion get_clothe_title(). Tendremos que obtener la categorpia de la prenda 2489222."
   ]
  },
  {
   "cell_type": "code",
   "execution_count": 88,
   "id": "4c8b30ef",
   "metadata": {},
   "outputs": [
    {
     "data": {
      "text/plain": [
       "'skirt'"
      ]
     },
     "execution_count": 88,
     "metadata": {},
     "output_type": "execute_result"
    }
   ],
   "source": [
    "get_clothe_title(4587)"
   ]
  },
  {
   "cell_type": "markdown",
   "id": "c9052b23",
   "metadata": {},
   "source": [
    "## Paso 4: Construyendo el modelo de modelo de Recomendacion de Feedback Implicito"
   ]
  },
  {
   "cell_type": "code",
   "execution_count": 45,
   "id": "d642f3ec",
   "metadata": {},
   "outputs": [
    {
     "name": "stderr",
     "output_type": "stream",
     "text": [
      "C:\\Users\\ingsa\\anaconda3\\lib\\site-packages\\implicit\\cpu\\als.py:95: RuntimeWarning: OpenBLAS is configured to use 16 threads. It is highly recommended to disable its internal threadpool by setting the environment variable 'OPENBLAS_NUM_THREADS=1' or by calling 'threadpoolctl.threadpool_limits(1, \"blas\")'. Having OpenBLAS use a threadpool can lead to severe performance issues here.\n",
      "  check_blas_config()\n"
     ]
    }
   ],
   "source": [
    "model = implicit.als.AlternatingLeastSquares(factors=50)"
   ]
  },
  {
   "cell_type": "code",
   "execution_count": 46,
   "id": "e927b139",
   "metadata": {},
   "outputs": [
    {
     "data": {
      "application/vnd.jupyter.widget-view+json": {
       "model_id": "bf69d68a3dfb426291d1bb4569b506af",
       "version_major": 2,
       "version_minor": 0
      },
      "text/plain": [
       "  0%|          | 0/15 [00:00<?, ?it/s]"
      ]
     },
     "metadata": {},
     "output_type": "display_data"
    }
   ],
   "source": [
    "model.fit(X.T.tocsr())"
   ]
  },
  {
   "cell_type": "code",
   "execution_count": 89,
   "id": "a44fc1f0",
   "metadata": {},
   "outputs": [
    {
     "data": {
      "text/plain": [
       "(array([4587, 4377,    4, 5229,   67, 5556, 4206, 4340, 2889, 3825]),\n",
       " array([0.99999994, 0.9056287 , 0.9027173 , 0.89262044, 0.8920612 ,\n",
       "        0.89151657, 0.89104706, 0.8891136 , 0.88850164, 0.8869274 ],\n",
       "       dtype=float32))"
      ]
     },
     "execution_count": 89,
     "metadata": {},
     "output_type": "execute_result"
    }
   ],
   "source": [
    "clothe_of_interest = '2489222'\n",
    "\n",
    "clothe_index = get_clothe_index(clothe_of_interest)\n",
    "related = model.similar_items(clothe_index)\n",
    "related"
   ]
  },
  {
   "cell_type": "code",
   "execution_count": 90,
   "id": "7359d0cc",
   "metadata": {},
   "outputs": [
    {
     "name": "stdout",
     "output_type": "stream",
     "text": [
      "Si adquiriste la prenda skirt te pueden interesar las siguientes prendas:\n",
      "down\n",
      "dress\n",
      "blouse\n",
      "dress\n",
      "pants\n",
      "sheath\n",
      "shift\n"
     ]
    }
   ],
   "source": [
    "print(f\"Si adquiriste la prenda {clothe_finder(clothe_of_interest)} te pueden interesar las siguientes prendas:\")\n",
    "for t, r in zip(related[0], related[1]):\n",
    "    \n",
    "    recommended_title = get_clothe_title(t)\n",
    "    if recommended_title != clothe_finder(clothe_of_interest):\n",
    "        print(recommended_title)"
   ]
  },
  {
   "cell_type": "markdown",
   "id": "edd0f673",
   "metadata": {},
   "source": [
    "## Paso 5: Generando las recomendaciones del usuario"
   ]
  },
  {
   "cell_type": "markdown",
   "id": "2ff7e7b7",
   "metadata": {},
   "source": [
    "Una caracteristica interesante de implicit es que puedes obtener recomendaciones personalizadas para un usuario determinado. Intentemos ver los resultados con un usuario especifico de nuestro dataset."
   ]
  },
  {
   "cell_type": "code",
   "execution_count": 91,
   "id": "1205e60a",
   "metadata": {},
   "outputs": [],
   "source": [
    "user_id = 691468"
   ]
  },
  {
   "cell_type": "code",
   "execution_count": 92,
   "id": "912c4953",
   "metadata": {},
   "outputs": [
    {
     "name": "stdout",
     "output_type": "stream",
     "text": [
      "El numero de prendas rankeadas por el usuario 691468 es de: 23\n"
     ]
    }
   ],
   "source": [
    "user_ratings = clothes_df[clothes_df['user_id']==user_id].merge(clothes_df[['item_id', 'category']])\n",
    "user_ratings = user_ratings.sort_values('rating', ascending=False)\n",
    "print(f\"El numero de prendas rankeadas por el usuario {user_id} es de: {user_ratings['item_id'].nunique()}\")"
   ]
  },
  {
   "cell_type": "code",
   "execution_count": 93,
   "id": "7eba4f6f",
   "metadata": {},
   "outputs": [
    {
     "data": {
      "text/html": [
       "<div>\n",
       "<style scoped>\n",
       "    .dataframe tbody tr th:only-of-type {\n",
       "        vertical-align: middle;\n",
       "    }\n",
       "\n",
       "    .dataframe tbody tr th {\n",
       "        vertical-align: top;\n",
       "    }\n",
       "\n",
       "    .dataframe thead th {\n",
       "        text-align: right;\n",
       "    }\n",
       "</style>\n",
       "<table border=\"1\" class=\"dataframe\">\n",
       "  <thead>\n",
       "    <tr style=\"text-align: right;\">\n",
       "      <th></th>\n",
       "      <th>user_id</th>\n",
       "      <th>item_id</th>\n",
       "      <th>rating</th>\n",
       "      <th>review_date</th>\n",
       "      <th>category</th>\n",
       "    </tr>\n",
       "  </thead>\n",
       "  <tbody>\n",
       "    <tr>\n",
       "      <th>0</th>\n",
       "      <td>691468</td>\n",
       "      <td>2048890</td>\n",
       "      <td>10.0</td>\n",
       "      <td>November 10, 2017</td>\n",
       "      <td>jumpsuit</td>\n",
       "    </tr>\n",
       "    <tr>\n",
       "      <th>9</th>\n",
       "      <td>691468</td>\n",
       "      <td>2049439</td>\n",
       "      <td>10.0</td>\n",
       "      <td>May 18, 2017</td>\n",
       "      <td>romper</td>\n",
       "    </tr>\n",
       "    <tr>\n",
       "      <th>15</th>\n",
       "      <td>691468</td>\n",
       "      <td>1346952</td>\n",
       "      <td>10.0</td>\n",
       "      <td>June 29, 2017</td>\n",
       "      <td>dress</td>\n",
       "    </tr>\n",
       "    <tr>\n",
       "      <th>14</th>\n",
       "      <td>691468</td>\n",
       "      <td>663524</td>\n",
       "      <td>10.0</td>\n",
       "      <td>November 30, 2017</td>\n",
       "      <td>dress</td>\n",
       "    </tr>\n",
       "    <tr>\n",
       "      <th>13</th>\n",
       "      <td>691468</td>\n",
       "      <td>220435</td>\n",
       "      <td>10.0</td>\n",
       "      <td>December 8, 2016</td>\n",
       "      <td>dress</td>\n",
       "    </tr>\n",
       "  </tbody>\n",
       "</table>\n",
       "</div>"
      ],
      "text/plain": [
       "    user_id  item_id  rating        review_date  category\n",
       "0    691468  2048890    10.0  November 10, 2017  jumpsuit\n",
       "9    691468  2049439    10.0       May 18, 2017    romper\n",
       "15   691468  1346952    10.0      June 29, 2017     dress\n",
       "14   691468   663524    10.0  November 30, 2017     dress\n",
       "13   691468   220435    10.0   December 8, 2016     dress"
      ]
     },
     "execution_count": 93,
     "metadata": {},
     "output_type": "execute_result"
    }
   ],
   "source": [
    "user_ratings = clothes_df[clothes_df['user_id']==user_id].merge(clothes_df[['item_id', 'category']])\n",
    "user_ratings = user_ratings.sort_values('rating', ascending=False)\n",
    "top_5 = user_ratings.head()\n",
    "top_5"
   ]
  },
  {
   "cell_type": "markdown",
   "id": "a27afb6c",
   "metadata": {},
   "source": [
    "Las prendas de menor rating son:"
   ]
  },
  {
   "cell_type": "code",
   "execution_count": 94,
   "id": "dc760f3f",
   "metadata": {},
   "outputs": [
    {
     "data": {
      "text/html": [
       "<div>\n",
       "<style scoped>\n",
       "    .dataframe tbody tr th:only-of-type {\n",
       "        vertical-align: middle;\n",
       "    }\n",
       "\n",
       "    .dataframe tbody tr th {\n",
       "        vertical-align: top;\n",
       "    }\n",
       "\n",
       "    .dataframe thead th {\n",
       "        text-align: right;\n",
       "    }\n",
       "</style>\n",
       "<table border=\"1\" class=\"dataframe\">\n",
       "  <thead>\n",
       "    <tr style=\"text-align: right;\">\n",
       "      <th></th>\n",
       "      <th>user_id</th>\n",
       "      <th>item_id</th>\n",
       "      <th>rating</th>\n",
       "      <th>review_date</th>\n",
       "      <th>category</th>\n",
       "    </tr>\n",
       "  </thead>\n",
       "  <tbody>\n",
       "    <tr>\n",
       "      <th>12</th>\n",
       "      <td>691468</td>\n",
       "      <td>1689146</td>\n",
       "      <td>8.0</td>\n",
       "      <td>December 12, 2017</td>\n",
       "      <td>dress</td>\n",
       "    </tr>\n",
       "    <tr>\n",
       "      <th>7</th>\n",
       "      <td>691468</td>\n",
       "      <td>1964998</td>\n",
       "      <td>8.0</td>\n",
       "      <td>October 31, 2017</td>\n",
       "      <td>dress</td>\n",
       "    </tr>\n",
       "    <tr>\n",
       "      <th>4</th>\n",
       "      <td>691468</td>\n",
       "      <td>849722</td>\n",
       "      <td>8.0</td>\n",
       "      <td>November 8, 2017</td>\n",
       "      <td>dress</td>\n",
       "    </tr>\n",
       "    <tr>\n",
       "      <th>3</th>\n",
       "      <td>691468</td>\n",
       "      <td>941248</td>\n",
       "      <td>8.0</td>\n",
       "      <td>May 26, 2017</td>\n",
       "      <td>dress</td>\n",
       "    </tr>\n",
       "    <tr>\n",
       "      <th>22</th>\n",
       "      <td>691468</td>\n",
       "      <td>239232</td>\n",
       "      <td>8.0</td>\n",
       "      <td>July 13, 2017</td>\n",
       "      <td>maxi</td>\n",
       "    </tr>\n",
       "  </tbody>\n",
       "</table>\n",
       "</div>"
      ],
      "text/plain": [
       "    user_id  item_id  rating        review_date category\n",
       "12   691468  1689146     8.0  December 12, 2017    dress\n",
       "7    691468  1964998     8.0   October 31, 2017    dress\n",
       "4    691468   849722     8.0   November 8, 2017    dress\n",
       "3    691468   941248     8.0       May 26, 2017    dress\n",
       "22   691468   239232     8.0      July 13, 2017     maxi"
      ]
     },
     "execution_count": 94,
     "metadata": {},
     "output_type": "execute_result"
    }
   ],
   "source": [
    "bottom_5 = user_ratings[user_ratings['rating']<9].tail()\n",
    "bottom_5"
   ]
  },
  {
   "cell_type": "markdown",
   "id": "ea32fdd3",
   "metadata": {},
   "source": [
    "Utilizaremos recommend() que utiliza el indice del usuario y lo transpone con la matriz user-item."
   ]
  },
  {
   "cell_type": "code",
   "execution_count": 95,
   "id": "1bc009aa",
   "metadata": {},
   "outputs": [
    {
     "data": {
      "text/plain": [
       "(array([4839, 5095, 1796, 2353, 4321, 5170, 3899, 2778, 4126, 4516]),\n",
       " array([0.3849011 , 0.38484445, 0.31434727, 0.3123117 , 0.30779627,\n",
       "        0.30769363, 0.26969293, 0.26798132, 0.26628482, 0.25997618],\n",
       "       dtype=float32))"
      ]
     },
     "execution_count": 95,
     "metadata": {},
     "output_type": "execute_result"
    }
   ],
   "source": [
    "X_t = X.T.tocsr()\n",
    "user_idx = user_mapper[user_id]\n",
    "recommendations = model.recommend(user_idx, X_t[user_idx])\n",
    "recommendations"
   ]
  },
  {
   "cell_type": "markdown",
   "id": "7b5bf9d1",
   "metadata": {},
   "source": [
    "Por último se obtendrá la lista de categorías recomendadas para la prenda y el usuario analizado"
   ]
  },
  {
   "cell_type": "code",
   "execution_count": 96,
   "id": "5476bd4d",
   "metadata": {},
   "outputs": [
    {
     "name": "stdout",
     "output_type": "stream",
     "text": [
      "sweater\n",
      "coat\n",
      "dress\n",
      "shift\n",
      "top\n",
      "skirt\n",
      "overalls\n",
      "shift\n",
      "top\n",
      "romper\n"
     ]
    }
   ],
   "source": [
    "for t, r in zip(recommendations[0], recommendations[1]):\n",
    "    recommended_title = get_movie_title(t)\n",
    "    print(recommended_title)"
   ]
  },
  {
   "cell_type": "code",
   "execution_count": null,
   "id": "8c71a614",
   "metadata": {},
   "outputs": [],
   "source": []
  }
 ],
 "metadata": {
  "kernelspec": {
   "display_name": "Python 3 (ipykernel)",
   "language": "python",
   "name": "python3"
  },
  "language_info": {
   "codemirror_mode": {
    "name": "ipython",
    "version": 3
   },
   "file_extension": ".py",
   "mimetype": "text/x-python",
   "name": "python",
   "nbconvert_exporter": "python",
   "pygments_lexer": "ipython3",
   "version": "3.9.13"
  }
 },
 "nbformat": 4,
 "nbformat_minor": 5
}
