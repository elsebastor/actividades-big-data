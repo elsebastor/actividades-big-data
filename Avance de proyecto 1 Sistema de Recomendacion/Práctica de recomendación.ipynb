{
 "cells": [
  {
   "cell_type": "code",
   "execution_count": 91,
   "id": "c6d22355",
   "metadata": {},
   "outputs": [],
   "source": [
    "# Librerías importadas\n",
    "\n",
    "import pandas as pd\n",
    "import numpy as np\n",
    "import matplotlib.pyplot as plt\n",
    "from sklearn.decomposition import TruncatedSVD"
   ]
  },
  {
   "cell_type": "code",
   "execution_count": 9,
   "id": "b36a4671",
   "metadata": {},
   "outputs": [
    {
     "data": {
      "text/html": [
       "<div>\n",
       "<style scoped>\n",
       "    .dataframe tbody tr th:only-of-type {\n",
       "        vertical-align: middle;\n",
       "    }\n",
       "\n",
       "    .dataframe tbody tr th {\n",
       "        vertical-align: top;\n",
       "    }\n",
       "\n",
       "    .dataframe thead th {\n",
       "        text-align: right;\n",
       "    }\n",
       "</style>\n",
       "<table border=\"1\" class=\"dataframe\">\n",
       "  <thead>\n",
       "    <tr style=\"text-align: right;\">\n",
       "      <th></th>\n",
       "      <th>fit</th>\n",
       "      <th>user_id</th>\n",
       "      <th>bust size</th>\n",
       "      <th>item_id</th>\n",
       "      <th>weight</th>\n",
       "      <th>rating</th>\n",
       "      <th>rented for</th>\n",
       "      <th>review_text</th>\n",
       "      <th>body type</th>\n",
       "      <th>review_summary</th>\n",
       "      <th>category</th>\n",
       "      <th>height</th>\n",
       "      <th>size</th>\n",
       "      <th>age</th>\n",
       "      <th>review_date</th>\n",
       "    </tr>\n",
       "  </thead>\n",
       "  <tbody>\n",
       "    <tr>\n",
       "      <th>0</th>\n",
       "      <td>fit</td>\n",
       "      <td>420272</td>\n",
       "      <td>34d</td>\n",
       "      <td>2260466</td>\n",
       "      <td>137lbs</td>\n",
       "      <td>10.0</td>\n",
       "      <td>vacation</td>\n",
       "      <td>An adorable romper! Belt and zipper were a lit...</td>\n",
       "      <td>hourglass</td>\n",
       "      <td>So many compliments!</td>\n",
       "      <td>romper</td>\n",
       "      <td>5' 8\"</td>\n",
       "      <td>14</td>\n",
       "      <td>28.0</td>\n",
       "      <td>April 20, 2016</td>\n",
       "    </tr>\n",
       "    <tr>\n",
       "      <th>1</th>\n",
       "      <td>fit</td>\n",
       "      <td>273551</td>\n",
       "      <td>34b</td>\n",
       "      <td>153475</td>\n",
       "      <td>132lbs</td>\n",
       "      <td>10.0</td>\n",
       "      <td>other</td>\n",
       "      <td>I rented this dress for a photo shoot. The the...</td>\n",
       "      <td>straight &amp; narrow</td>\n",
       "      <td>I felt so glamourous!!!</td>\n",
       "      <td>gown</td>\n",
       "      <td>5' 6\"</td>\n",
       "      <td>12</td>\n",
       "      <td>36.0</td>\n",
       "      <td>June 18, 2013</td>\n",
       "    </tr>\n",
       "    <tr>\n",
       "      <th>2</th>\n",
       "      <td>fit</td>\n",
       "      <td>360448</td>\n",
       "      <td>NaN</td>\n",
       "      <td>1063761</td>\n",
       "      <td>NaN</td>\n",
       "      <td>10.0</td>\n",
       "      <td>party</td>\n",
       "      <td>This hugged in all the right places! It was a ...</td>\n",
       "      <td>NaN</td>\n",
       "      <td>It was a great time to celebrate the (almost) ...</td>\n",
       "      <td>sheath</td>\n",
       "      <td>5' 4\"</td>\n",
       "      <td>4</td>\n",
       "      <td>116.0</td>\n",
       "      <td>December 14, 2015</td>\n",
       "    </tr>\n",
       "    <tr>\n",
       "      <th>3</th>\n",
       "      <td>fit</td>\n",
       "      <td>909926</td>\n",
       "      <td>34c</td>\n",
       "      <td>126335</td>\n",
       "      <td>135lbs</td>\n",
       "      <td>8.0</td>\n",
       "      <td>formal affair</td>\n",
       "      <td>I rented this for my company's black tie award...</td>\n",
       "      <td>pear</td>\n",
       "      <td>Dress arrived on time and in perfect condition.</td>\n",
       "      <td>dress</td>\n",
       "      <td>5' 5\"</td>\n",
       "      <td>8</td>\n",
       "      <td>34.0</td>\n",
       "      <td>February 12, 2014</td>\n",
       "    </tr>\n",
       "    <tr>\n",
       "      <th>4</th>\n",
       "      <td>fit</td>\n",
       "      <td>151944</td>\n",
       "      <td>34b</td>\n",
       "      <td>616682</td>\n",
       "      <td>145lbs</td>\n",
       "      <td>10.0</td>\n",
       "      <td>wedding</td>\n",
       "      <td>I have always been petite in my upper body and...</td>\n",
       "      <td>athletic</td>\n",
       "      <td>Was in love with this dress !!!</td>\n",
       "      <td>gown</td>\n",
       "      <td>5' 9\"</td>\n",
       "      <td>12</td>\n",
       "      <td>27.0</td>\n",
       "      <td>September 26, 2016</td>\n",
       "    </tr>\n",
       "  </tbody>\n",
       "</table>\n",
       "</div>"
      ],
      "text/plain": [
       "   fit  user_id bust size  item_id  weight  rating     rented for  \\\n",
       "0  fit   420272       34d  2260466  137lbs    10.0       vacation   \n",
       "1  fit   273551       34b   153475  132lbs    10.0          other   \n",
       "2  fit   360448       NaN  1063761     NaN    10.0          party   \n",
       "3  fit   909926       34c   126335  135lbs     8.0  formal affair   \n",
       "4  fit   151944       34b   616682  145lbs    10.0        wedding   \n",
       "\n",
       "                                         review_text          body type  \\\n",
       "0  An adorable romper! Belt and zipper were a lit...          hourglass   \n",
       "1  I rented this dress for a photo shoot. The the...  straight & narrow   \n",
       "2  This hugged in all the right places! It was a ...                NaN   \n",
       "3  I rented this for my company's black tie award...               pear   \n",
       "4  I have always been petite in my upper body and...           athletic   \n",
       "\n",
       "                                      review_summary category height  size  \\\n",
       "0                               So many compliments!   romper  5' 8\"    14   \n",
       "1                            I felt so glamourous!!!     gown  5' 6\"    12   \n",
       "2  It was a great time to celebrate the (almost) ...   sheath  5' 4\"     4   \n",
       "3   Dress arrived on time and in perfect condition.     dress  5' 5\"     8   \n",
       "4                    Was in love with this dress !!!     gown  5' 9\"    12   \n",
       "\n",
       "     age         review_date  \n",
       "0   28.0      April 20, 2016  \n",
       "1   36.0       June 18, 2013  \n",
       "2  116.0   December 14, 2015  \n",
       "3   34.0   February 12, 2014  \n",
       "4   27.0  September 26, 2016  "
      ]
     },
     "execution_count": 9,
     "metadata": {},
     "output_type": "execute_result"
    }
   ],
   "source": [
    "# Importamos el DataSet\n",
    "\n",
    "my_dt = pd.read_json('renttherunway_final_data.json', lines=True)\n",
    "my_dt.head(5)"
   ]
  },
  {
   "cell_type": "markdown",
   "id": "99998599",
   "metadata": {},
   "source": [
    "Preprocesamiento y limpieza"
   ]
  },
  {
   "cell_type": "code",
   "execution_count": 10,
   "id": "8cfe0126",
   "metadata": {},
   "outputs": [
    {
     "name": "stdout",
     "output_type": "stream",
     "text": [
      "(192544, 15)\n"
     ]
    }
   ],
   "source": [
    "print(my_dt.shape)"
   ]
  },
  {
   "cell_type": "code",
   "execution_count": 11,
   "id": "5e5a802e",
   "metadata": {},
   "outputs": [
    {
     "data": {
      "text/plain": [
       "fit                object\n",
       "user_id             int64\n",
       "bust size          object\n",
       "item_id             int64\n",
       "weight             object\n",
       "rating            float64\n",
       "rented for         object\n",
       "review_text        object\n",
       "body type          object\n",
       "review_summary     object\n",
       "category           object\n",
       "height             object\n",
       "size                int64\n",
       "age               float64\n",
       "review_date        object\n",
       "dtype: object"
      ]
     },
     "execution_count": 11,
     "metadata": {},
     "output_type": "execute_result"
    }
   ],
   "source": [
    "my_dt.dtypes"
   ]
  },
  {
   "cell_type": "code",
   "execution_count": 12,
   "id": "a09265ec",
   "metadata": {},
   "outputs": [
    {
     "name": "stdout",
     "output_type": "stream",
     "text": [
      "<class 'pandas.core.frame.DataFrame'>\n",
      "RangeIndex: 192544 entries, 0 to 192543\n",
      "Data columns (total 15 columns):\n",
      " #   Column          Non-Null Count   Dtype  \n",
      "---  ------          --------------   -----  \n",
      " 0   fit             192544 non-null  object \n",
      " 1   user_id         192544 non-null  int64  \n",
      " 2   bust size       174133 non-null  object \n",
      " 3   item_id         192544 non-null  int64  \n",
      " 4   weight          162562 non-null  object \n",
      " 5   rating          192462 non-null  float64\n",
      " 6   rented for      192534 non-null  object \n",
      " 7   review_text     192544 non-null  object \n",
      " 8   body type       177907 non-null  object \n",
      " 9   review_summary  192544 non-null  object \n",
      " 10  category        192544 non-null  object \n",
      " 11  height          191867 non-null  object \n",
      " 12  size            192544 non-null  int64  \n",
      " 13  age             191584 non-null  float64\n",
      " 14  review_date     192544 non-null  object \n",
      "dtypes: float64(2), int64(3), object(10)\n",
      "memory usage: 22.0+ MB\n"
     ]
    }
   ],
   "source": [
    "my_dt.info()"
   ]
  },
  {
   "cell_type": "code",
   "execution_count": 15,
   "id": "21f5273f",
   "metadata": {},
   "outputs": [],
   "source": [
    "my_dt.drop(['bust size','weight','height'], axis=1, inplace=True)"
   ]
  },
  {
   "cell_type": "code",
   "execution_count": 42,
   "id": "7302a2a9",
   "metadata": {},
   "outputs": [],
   "source": [
    "body_type_mode = my_dt['body type'].mode()[0]\n",
    "my_dt['body type'].fillna(body_type_mode,inplace=True)"
   ]
  },
  {
   "cell_type": "code",
   "execution_count": 43,
   "id": "e9a100dd",
   "metadata": {},
   "outputs": [
    {
     "data": {
      "text/plain": [
       "array(['hourglass', 'straight & narrow', 'pear', 'athletic', 'full bust',\n",
       "       'petite', 'apple'], dtype=object)"
      ]
     },
     "execution_count": 43,
     "metadata": {},
     "output_type": "execute_result"
    }
   ],
   "source": [
    "my_dt['body type'].unique()"
   ]
  },
  {
   "cell_type": "code",
   "execution_count": 56,
   "id": "d99dc98e",
   "metadata": {},
   "outputs": [
    {
     "name": "stdout",
     "output_type": "stream",
     "text": [
      "hourglass            69986\n",
      "athletic             43667\n",
      "pear                 22135\n",
      "petite               22131\n",
      "full bust            15006\n",
      "straight & narrow    14742\n",
      "apple                 4877\n",
      "Name: body type, dtype: int64\n"
     ]
    }
   ],
   "source": [
    "print(my_dt['body type'].value_counts())"
   ]
  },
  {
   "cell_type": "code",
   "execution_count": 67,
   "id": "33fbc0d9",
   "metadata": {},
   "outputs": [
    {
     "name": "stdout",
     "output_type": "stream",
     "text": [
      "['athletic']\n"
     ]
    },
    {
     "data": {
      "text/plain": [
       "(43667, 12)"
      ]
     },
     "execution_count": 67,
     "metadata": {},
     "output_type": "execute_result"
    }
   ],
   "source": [
    "clean_dt = my_dt[my_dt['body type'].str.contains('athletic')]\n",
    "print(clean_dt['body type'].unique())\n",
    "clean_dt.shape"
   ]
  },
  {
   "cell_type": "code",
   "execution_count": 68,
   "id": "486ecdff",
   "metadata": {},
   "outputs": [
    {
     "name": "stdout",
     "output_type": "stream",
     "text": [
      "<class 'pandas.core.frame.DataFrame'>\n",
      "Int64Index: 43667 entries, 4 to 192543\n",
      "Data columns (total 12 columns):\n",
      " #   Column          Non-Null Count  Dtype  \n",
      "---  ------          --------------  -----  \n",
      " 0   fit             43667 non-null  object \n",
      " 1   user_id         43667 non-null  int64  \n",
      " 2   item_id         43667 non-null  int64  \n",
      " 3   rating          43652 non-null  float64\n",
      " 4   rented for      43665 non-null  object \n",
      " 5   review_text     43667 non-null  object \n",
      " 6   body type       43667 non-null  object \n",
      " 7   review_summary  43667 non-null  object \n",
      " 8   category        43667 non-null  object \n",
      " 9   size            43667 non-null  int64  \n",
      " 10  age             43579 non-null  float64\n",
      " 11  review_date     43667 non-null  object \n",
      "dtypes: float64(2), int64(3), object(7)\n",
      "memory usage: 4.3+ MB\n"
     ]
    }
   ],
   "source": [
    "clean_dt.info()"
   ]
  },
  {
   "cell_type": "code",
   "execution_count": 72,
   "id": "34798f43",
   "metadata": {},
   "outputs": [
    {
     "name": "stdout",
     "output_type": "stream",
     "text": [
      "Categorias totales:  62\n",
      "Razones de compra totales:  9\n",
      "Usuarios totales:  23862\n"
     ]
    }
   ],
   "source": [
    "categoria_total = clean_dt['category'].unique()\n",
    "ocasiones_total = clean_dt['rented for'].unique()\n",
    "usuarios_total = clean_dt['user_id'].unique()\n",
    "\n",
    "print('Categorias totales: ', len(categoria_total))\n",
    "print('Razones de compra totales: ', len(ocasiones_total))\n",
    "print('Usuarios totales: ', len(usuarios_total))"
   ]
  },
  {
   "cell_type": "code",
   "execution_count": 73,
   "id": "63f3f81a",
   "metadata": {},
   "outputs": [
    {
     "name": "stdout",
     "output_type": "stream",
     "text": [
      "Categorias que se compran\n"
     ]
    },
    {
     "data": {
      "text/html": [
       "<div>\n",
       "<style scoped>\n",
       "    .dataframe tbody tr th:only-of-type {\n",
       "        vertical-align: middle;\n",
       "    }\n",
       "\n",
       "    .dataframe tbody tr th {\n",
       "        vertical-align: top;\n",
       "    }\n",
       "\n",
       "    .dataframe thead th {\n",
       "        text-align: right;\n",
       "    }\n",
       "</style>\n",
       "<table border=\"1\" class=\"dataframe\">\n",
       "  <thead>\n",
       "    <tr style=\"text-align: right;\">\n",
       "      <th></th>\n",
       "      <th>0</th>\n",
       "    </tr>\n",
       "  </thead>\n",
       "  <tbody>\n",
       "    <tr>\n",
       "      <th>0</th>\n",
       "      <td>ballgown</td>\n",
       "    </tr>\n",
       "    <tr>\n",
       "      <th>1</th>\n",
       "      <td>blazer</td>\n",
       "    </tr>\n",
       "    <tr>\n",
       "      <th>2</th>\n",
       "      <td>blouse</td>\n",
       "    </tr>\n",
       "    <tr>\n",
       "      <th>3</th>\n",
       "      <td>bomber</td>\n",
       "    </tr>\n",
       "    <tr>\n",
       "      <th>4</th>\n",
       "      <td>caftan</td>\n",
       "    </tr>\n",
       "    <tr>\n",
       "      <th>...</th>\n",
       "      <td>...</td>\n",
       "    </tr>\n",
       "    <tr>\n",
       "      <th>57</th>\n",
       "      <td>trouser</td>\n",
       "    </tr>\n",
       "    <tr>\n",
       "      <th>58</th>\n",
       "      <td>trousers</td>\n",
       "    </tr>\n",
       "    <tr>\n",
       "      <th>59</th>\n",
       "      <td>tunic</td>\n",
       "    </tr>\n",
       "    <tr>\n",
       "      <th>60</th>\n",
       "      <td>turtleneck</td>\n",
       "    </tr>\n",
       "    <tr>\n",
       "      <th>61</th>\n",
       "      <td>vest</td>\n",
       "    </tr>\n",
       "  </tbody>\n",
       "</table>\n",
       "<p>62 rows × 1 columns</p>\n",
       "</div>"
      ],
      "text/plain": [
       "             0\n",
       "0     ballgown\n",
       "1       blazer\n",
       "2       blouse\n",
       "3       bomber\n",
       "4       caftan\n",
       "..         ...\n",
       "57     trouser\n",
       "58    trousers\n",
       "59       tunic\n",
       "60  turtleneck\n",
       "61        vest\n",
       "\n",
       "[62 rows x 1 columns]"
      ]
     },
     "execution_count": 73,
     "metadata": {},
     "output_type": "execute_result"
    }
   ],
   "source": [
    "print(\"Categorias que se compran\")\n",
    "pd.DataFrame(sorted(clean_dt['category'].unique()))"
   ]
  },
  {
   "cell_type": "code",
   "execution_count": 158,
   "id": "1c6620f8",
   "metadata": {},
   "outputs": [
    {
     "name": "stdout",
     "output_type": "stream",
     "text": [
      "Numero de prendas por categoria:\n"
     ]
    },
    {
     "data": {
      "text/html": [
       "<div>\n",
       "<style scoped>\n",
       "    .dataframe tbody tr th:only-of-type {\n",
       "        vertical-align: middle;\n",
       "    }\n",
       "\n",
       "    .dataframe tbody tr th {\n",
       "        vertical-align: top;\n",
       "    }\n",
       "\n",
       "    .dataframe thead th {\n",
       "        text-align: right;\n",
       "    }\n",
       "</style>\n",
       "<table border=\"1\" class=\"dataframe\">\n",
       "  <thead>\n",
       "    <tr style=\"text-align: right;\">\n",
       "      <th></th>\n",
       "      <th>Categoria</th>\n",
       "      <th>Prendas</th>\n",
       "    </tr>\n",
       "  </thead>\n",
       "  <tbody>\n",
       "    <tr>\n",
       "      <th>0</th>\n",
       "      <td>ballgown</td>\n",
       "      <td>1</td>\n",
       "    </tr>\n",
       "    <tr>\n",
       "      <th>1</th>\n",
       "      <td>blazer</td>\n",
       "      <td>1</td>\n",
       "    </tr>\n",
       "    <tr>\n",
       "      <th>2</th>\n",
       "      <td>blouse</td>\n",
       "      <td>1</td>\n",
       "    </tr>\n",
       "    <tr>\n",
       "      <th>3</th>\n",
       "      <td>bomber</td>\n",
       "      <td>1</td>\n",
       "    </tr>\n",
       "    <tr>\n",
       "      <th>4</th>\n",
       "      <td>caftan</td>\n",
       "      <td>1</td>\n",
       "    </tr>\n",
       "    <tr>\n",
       "      <th>...</th>\n",
       "      <td>...</td>\n",
       "      <td>...</td>\n",
       "    </tr>\n",
       "    <tr>\n",
       "      <th>57</th>\n",
       "      <td>trouser</td>\n",
       "      <td>1</td>\n",
       "    </tr>\n",
       "    <tr>\n",
       "      <th>58</th>\n",
       "      <td>trousers</td>\n",
       "      <td>1</td>\n",
       "    </tr>\n",
       "    <tr>\n",
       "      <th>59</th>\n",
       "      <td>tunic</td>\n",
       "      <td>1</td>\n",
       "    </tr>\n",
       "    <tr>\n",
       "      <th>60</th>\n",
       "      <td>turtleneck</td>\n",
       "      <td>1</td>\n",
       "    </tr>\n",
       "    <tr>\n",
       "      <th>61</th>\n",
       "      <td>vest</td>\n",
       "      <td>1</td>\n",
       "    </tr>\n",
       "  </tbody>\n",
       "</table>\n",
       "<p>62 rows × 2 columns</p>\n",
       "</div>"
      ],
      "text/plain": [
       "     Categoria  Prendas\n",
       "0     ballgown        1\n",
       "1       blazer        1\n",
       "2       blouse        1\n",
       "3       bomber        1\n",
       "4       caftan        1\n",
       "..         ...      ...\n",
       "57     trouser        1\n",
       "58    trousers        1\n",
       "59       tunic        1\n",
       "60  turtleneck        1\n",
       "61        vest        1\n",
       "\n",
       "[62 rows x 2 columns]"
      ]
     },
     "execution_count": 158,
     "metadata": {},
     "output_type": "execute_result"
    }
   ],
   "source": [
    "# Eliminamos categorías duplicadas\n",
    "\n",
    "df_names = clean_dt.drop_duplicates(subset='category', ignore_index=True)\n",
    "\n",
    "# Obtenemos una lista de categirías únicas\n",
    "unique_category = sorted(df_names['category'].unique())\n",
    "\n",
    "# Contar el numero de categorias\n",
    "counts = df_names.groupby('category')['item_id'].nunique()\n",
    "\n",
    "# Creamos un diccionario de categorías unicas\n",
    "unique_counts = {}\n",
    "for value in unique_category:\n",
    "    count = counts.get(value, 0)\n",
    "    unique_counts[value] = count\n",
    "    \n",
    "sorted_data = dict(sorted(unique_counts.items(), key=lambda item: item[1], reverse=True))\n",
    "\n",
    "df_unique = pd.DataFrame({'Categoria':sorted_data.keys(),\n",
    "                        'Prendas':sorted_data.values()\n",
    "                       })\n",
    "\n",
    "print('Numero de prendas por categoria:')\n",
    "df_unique"
   ]
  },
  {
   "cell_type": "markdown",
   "id": "5c31d155",
   "metadata": {},
   "source": [
    "Para nuestro sistema de recomendación seleccionaremos las columnas para nuestro algoritmo, en este caso (user_id, category, rating y item_id)"
   ]
  },
  {
   "cell_type": "code",
   "execution_count": 83,
   "id": "ff8fcc1c",
   "metadata": {},
   "outputs": [
    {
     "name": "stdout",
     "output_type": "stream",
     "text": [
      "(43667, 4)\n"
     ]
    },
    {
     "data": {
      "text/html": [
       "<div>\n",
       "<style scoped>\n",
       "    .dataframe tbody tr th:only-of-type {\n",
       "        vertical-align: middle;\n",
       "    }\n",
       "\n",
       "    .dataframe tbody tr th {\n",
       "        vertical-align: top;\n",
       "    }\n",
       "\n",
       "    .dataframe thead th {\n",
       "        text-align: right;\n",
       "    }\n",
       "</style>\n",
       "<table border=\"1\" class=\"dataframe\">\n",
       "  <thead>\n",
       "    <tr style=\"text-align: right;\">\n",
       "      <th></th>\n",
       "      <th>user_id</th>\n",
       "      <th>category</th>\n",
       "      <th>rating</th>\n",
       "      <th>item_id</th>\n",
       "    </tr>\n",
       "  </thead>\n",
       "  <tbody>\n",
       "    <tr>\n",
       "      <th>4</th>\n",
       "      <td>151944</td>\n",
       "      <td>gown</td>\n",
       "      <td>10.0</td>\n",
       "      <td>616682</td>\n",
       "    </tr>\n",
       "    <tr>\n",
       "      <th>5</th>\n",
       "      <td>734848</td>\n",
       "      <td>dress</td>\n",
       "      <td>8.0</td>\n",
       "      <td>364092</td>\n",
       "    </tr>\n",
       "    <tr>\n",
       "      <th>10</th>\n",
       "      <td>185966</td>\n",
       "      <td>dress</td>\n",
       "      <td>8.0</td>\n",
       "      <td>1077123</td>\n",
       "    </tr>\n",
       "    <tr>\n",
       "      <th>14</th>\n",
       "      <td>721308</td>\n",
       "      <td>gown</td>\n",
       "      <td>10.0</td>\n",
       "      <td>123793</td>\n",
       "    </tr>\n",
       "    <tr>\n",
       "      <th>17</th>\n",
       "      <td>339899</td>\n",
       "      <td>dress</td>\n",
       "      <td>10.0</td>\n",
       "      <td>1622747</td>\n",
       "    </tr>\n",
       "  </tbody>\n",
       "</table>\n",
       "</div>"
      ],
      "text/plain": [
       "    user_id category  rating  item_id\n",
       "4    151944     gown    10.0   616682\n",
       "5    734848    dress     8.0   364092\n",
       "10   185966    dress     8.0  1077123\n",
       "14   721308     gown    10.0   123793\n",
       "17   339899    dress    10.0  1622747"
      ]
     },
     "execution_count": 83,
     "metadata": {},
     "output_type": "execute_result"
    }
   ],
   "source": [
    "df_recsys = clean_dt[['user_id', 'category', 'rating', 'item_id']]\n",
    "\n",
    "print(df_recsys.shape)\n",
    "df_recsys.head()"
   ]
  },
  {
   "cell_type": "code",
   "execution_count": 86,
   "id": "beb91f43",
   "metadata": {},
   "outputs": [
    {
     "name": "stdout",
     "output_type": "stream",
     "text": [
      "Total de restaurantes calificados por el usuario:  8\n"
     ]
    },
    {
     "data": {
      "text/html": [
       "<div>\n",
       "<style scoped>\n",
       "    .dataframe tbody tr th:only-of-type {\n",
       "        vertical-align: middle;\n",
       "    }\n",
       "\n",
       "    .dataframe tbody tr th {\n",
       "        vertical-align: top;\n",
       "    }\n",
       "\n",
       "    .dataframe thead th {\n",
       "        text-align: right;\n",
       "    }\n",
       "</style>\n",
       "<table border=\"1\" class=\"dataframe\">\n",
       "  <thead>\n",
       "    <tr style=\"text-align: right;\">\n",
       "      <th></th>\n",
       "      <th>user_id</th>\n",
       "      <th>category</th>\n",
       "      <th>rating</th>\n",
       "      <th>item_id</th>\n",
       "    </tr>\n",
       "  </thead>\n",
       "  <tbody>\n",
       "    <tr>\n",
       "      <th>17</th>\n",
       "      <td>339899</td>\n",
       "      <td>dress</td>\n",
       "      <td>10.0</td>\n",
       "      <td>1622747</td>\n",
       "    </tr>\n",
       "    <tr>\n",
       "      <th>10718</th>\n",
       "      <td>339899</td>\n",
       "      <td>romper</td>\n",
       "      <td>10.0</td>\n",
       "      <td>2567610</td>\n",
       "    </tr>\n",
       "    <tr>\n",
       "      <th>29462</th>\n",
       "      <td>339899</td>\n",
       "      <td>dress</td>\n",
       "      <td>10.0</td>\n",
       "      <td>1574548</td>\n",
       "    </tr>\n",
       "    <tr>\n",
       "      <th>51350</th>\n",
       "      <td>339899</td>\n",
       "      <td>top</td>\n",
       "      <td>10.0</td>\n",
       "      <td>2301588</td>\n",
       "    </tr>\n",
       "    <tr>\n",
       "      <th>97608</th>\n",
       "      <td>339899</td>\n",
       "      <td>top</td>\n",
       "      <td>8.0</td>\n",
       "      <td>2341911</td>\n",
       "    </tr>\n",
       "    <tr>\n",
       "      <th>101968</th>\n",
       "      <td>339899</td>\n",
       "      <td>dress</td>\n",
       "      <td>10.0</td>\n",
       "      <td>1839582</td>\n",
       "    </tr>\n",
       "    <tr>\n",
       "      <th>177894</th>\n",
       "      <td>339899</td>\n",
       "      <td>dress</td>\n",
       "      <td>10.0</td>\n",
       "      <td>1979533</td>\n",
       "    </tr>\n",
       "    <tr>\n",
       "      <th>186791</th>\n",
       "      <td>339899</td>\n",
       "      <td>dress</td>\n",
       "      <td>8.0</td>\n",
       "      <td>1203092</td>\n",
       "    </tr>\n",
       "  </tbody>\n",
       "</table>\n",
       "</div>"
      ],
      "text/plain": [
       "        user_id category  rating  item_id\n",
       "17       339899    dress    10.0  1622747\n",
       "10718    339899   romper    10.0  2567610\n",
       "29462    339899    dress    10.0  1574548\n",
       "51350    339899      top    10.0  2301588\n",
       "97608    339899      top     8.0  2341911\n",
       "101968   339899    dress    10.0  1839582\n",
       "177894   339899    dress    10.0  1979533\n",
       "186791   339899    dress     8.0  1203092"
      ]
     },
     "execution_count": 86,
     "metadata": {},
     "output_type": "execute_result"
    }
   ],
   "source": [
    "# Seleccionamos un usuario random para nuestro análisis\n",
    "\n",
    "idx = (df_recsys['user_id'] == 339899)\n",
    "\n",
    "# Imprimimos el total de calificaciones del usuario\n",
    "\n",
    "print('Total de restaurantes calificados por el usuario: ',idx.sum())\n",
    "df_recsys[idx]"
   ]
  },
  {
   "cell_type": "code",
   "execution_count": 87,
   "id": "54fcb06e",
   "metadata": {},
   "outputs": [
    {
     "data": {
      "text/html": [
       "<div>\n",
       "<style scoped>\n",
       "    .dataframe tbody tr th:only-of-type {\n",
       "        vertical-align: middle;\n",
       "    }\n",
       "\n",
       "    .dataframe tbody tr th {\n",
       "        vertical-align: top;\n",
       "    }\n",
       "\n",
       "    .dataframe thead th {\n",
       "        text-align: right;\n",
       "    }\n",
       "</style>\n",
       "<table border=\"1\" class=\"dataframe\">\n",
       "  <thead>\n",
       "    <tr style=\"text-align: right;\">\n",
       "      <th>category</th>\n",
       "      <th>ballgown</th>\n",
       "      <th>blazer</th>\n",
       "      <th>blouse</th>\n",
       "      <th>bomber</th>\n",
       "      <th>caftan</th>\n",
       "      <th>cami</th>\n",
       "      <th>cape</th>\n",
       "      <th>cardigan</th>\n",
       "      <th>coat</th>\n",
       "      <th>combo</th>\n",
       "      <th>...</th>\n",
       "      <th>tank</th>\n",
       "      <th>tee</th>\n",
       "      <th>tight</th>\n",
       "      <th>top</th>\n",
       "      <th>trench</th>\n",
       "      <th>trouser</th>\n",
       "      <th>trousers</th>\n",
       "      <th>tunic</th>\n",
       "      <th>turtleneck</th>\n",
       "      <th>vest</th>\n",
       "    </tr>\n",
       "    <tr>\n",
       "      <th>user_id</th>\n",
       "      <th></th>\n",
       "      <th></th>\n",
       "      <th></th>\n",
       "      <th></th>\n",
       "      <th></th>\n",
       "      <th></th>\n",
       "      <th></th>\n",
       "      <th></th>\n",
       "      <th></th>\n",
       "      <th></th>\n",
       "      <th></th>\n",
       "      <th></th>\n",
       "      <th></th>\n",
       "      <th></th>\n",
       "      <th></th>\n",
       "      <th></th>\n",
       "      <th></th>\n",
       "      <th></th>\n",
       "      <th></th>\n",
       "      <th></th>\n",
       "      <th></th>\n",
       "    </tr>\n",
       "  </thead>\n",
       "  <tbody>\n",
       "    <tr>\n",
       "      <th>302</th>\n",
       "      <td>0</td>\n",
       "      <td>0.0</td>\n",
       "      <td>0.0</td>\n",
       "      <td>0</td>\n",
       "      <td>0</td>\n",
       "      <td>0</td>\n",
       "      <td>0</td>\n",
       "      <td>0</td>\n",
       "      <td>0.0</td>\n",
       "      <td>0</td>\n",
       "      <td>...</td>\n",
       "      <td>0</td>\n",
       "      <td>0</td>\n",
       "      <td>0</td>\n",
       "      <td>0.0</td>\n",
       "      <td>0</td>\n",
       "      <td>0</td>\n",
       "      <td>0</td>\n",
       "      <td>0</td>\n",
       "      <td>0</td>\n",
       "      <td>0</td>\n",
       "    </tr>\n",
       "    <tr>\n",
       "      <th>318</th>\n",
       "      <td>0</td>\n",
       "      <td>0.0</td>\n",
       "      <td>0.0</td>\n",
       "      <td>0</td>\n",
       "      <td>0</td>\n",
       "      <td>0</td>\n",
       "      <td>0</td>\n",
       "      <td>0</td>\n",
       "      <td>0.0</td>\n",
       "      <td>0</td>\n",
       "      <td>...</td>\n",
       "      <td>0</td>\n",
       "      <td>0</td>\n",
       "      <td>0</td>\n",
       "      <td>0.0</td>\n",
       "      <td>0</td>\n",
       "      <td>0</td>\n",
       "      <td>0</td>\n",
       "      <td>0</td>\n",
       "      <td>0</td>\n",
       "      <td>0</td>\n",
       "    </tr>\n",
       "    <tr>\n",
       "      <th>442</th>\n",
       "      <td>0</td>\n",
       "      <td>0.0</td>\n",
       "      <td>0.0</td>\n",
       "      <td>0</td>\n",
       "      <td>0</td>\n",
       "      <td>0</td>\n",
       "      <td>0</td>\n",
       "      <td>0</td>\n",
       "      <td>0.0</td>\n",
       "      <td>0</td>\n",
       "      <td>...</td>\n",
       "      <td>0</td>\n",
       "      <td>0</td>\n",
       "      <td>0</td>\n",
       "      <td>0.0</td>\n",
       "      <td>0</td>\n",
       "      <td>0</td>\n",
       "      <td>0</td>\n",
       "      <td>0</td>\n",
       "      <td>0</td>\n",
       "      <td>0</td>\n",
       "    </tr>\n",
       "    <tr>\n",
       "      <th>464</th>\n",
       "      <td>0</td>\n",
       "      <td>0.0</td>\n",
       "      <td>0.0</td>\n",
       "      <td>0</td>\n",
       "      <td>0</td>\n",
       "      <td>0</td>\n",
       "      <td>0</td>\n",
       "      <td>0</td>\n",
       "      <td>0.0</td>\n",
       "      <td>0</td>\n",
       "      <td>...</td>\n",
       "      <td>0</td>\n",
       "      <td>0</td>\n",
       "      <td>0</td>\n",
       "      <td>0.0</td>\n",
       "      <td>0</td>\n",
       "      <td>0</td>\n",
       "      <td>0</td>\n",
       "      <td>0</td>\n",
       "      <td>0</td>\n",
       "      <td>0</td>\n",
       "    </tr>\n",
       "    <tr>\n",
       "      <th>474</th>\n",
       "      <td>0</td>\n",
       "      <td>0.0</td>\n",
       "      <td>0.0</td>\n",
       "      <td>0</td>\n",
       "      <td>0</td>\n",
       "      <td>0</td>\n",
       "      <td>0</td>\n",
       "      <td>0</td>\n",
       "      <td>0.0</td>\n",
       "      <td>0</td>\n",
       "      <td>...</td>\n",
       "      <td>0</td>\n",
       "      <td>0</td>\n",
       "      <td>0</td>\n",
       "      <td>0.0</td>\n",
       "      <td>0</td>\n",
       "      <td>0</td>\n",
       "      <td>0</td>\n",
       "      <td>0</td>\n",
       "      <td>0</td>\n",
       "      <td>0</td>\n",
       "    </tr>\n",
       "  </tbody>\n",
       "</table>\n",
       "<p>5 rows × 62 columns</p>\n",
       "</div>"
      ],
      "text/plain": [
       "category  ballgown  blazer  blouse  bomber  caftan  cami  cape  cardigan  \\\n",
       "user_id                                                                    \n",
       "302              0     0.0     0.0       0       0     0     0         0   \n",
       "318              0     0.0     0.0       0       0     0     0         0   \n",
       "442              0     0.0     0.0       0       0     0     0         0   \n",
       "464              0     0.0     0.0       0       0     0     0         0   \n",
       "474              0     0.0     0.0       0       0     0     0         0   \n",
       "\n",
       "category  coat  combo  ...  tank  tee  tight  top  trench  trouser  trousers  \\\n",
       "user_id                ...                                                     \n",
       "302        0.0      0  ...     0    0      0  0.0       0        0         0   \n",
       "318        0.0      0  ...     0    0      0  0.0       0        0         0   \n",
       "442        0.0      0  ...     0    0      0  0.0       0        0         0   \n",
       "464        0.0      0  ...     0    0      0  0.0       0        0         0   \n",
       "474        0.0      0  ...     0    0      0  0.0       0        0         0   \n",
       "\n",
       "category  tunic  turtleneck  vest  \n",
       "user_id                            \n",
       "302           0           0     0  \n",
       "318           0           0     0  \n",
       "442           0           0     0  \n",
       "464           0           0     0  \n",
       "474           0           0     0  \n",
       "\n",
       "[5 rows x 62 columns]"
      ]
     },
     "execution_count": 87,
     "metadata": {},
     "output_type": "execute_result"
    }
   ],
   "source": [
    "# Creamos nuestra matriz de utilidad\n",
    "\n",
    "UtlMtrx = df_recsys.pivot_table(values='rating', index='user_id', \n",
    "                                columns='category', fill_value=0\n",
    "                                )\n",
    "UtlMtrx.head() "
   ]
  },
  {
   "cell_type": "code",
   "execution_count": 88,
   "id": "a3a7a219",
   "metadata": {},
   "outputs": [
    {
     "name": "stdout",
     "output_type": "stream",
     "text": [
      "Total de elementos de la matriz de utilidad: 1478700\n",
      "Total de elementos diferentes de cero: 32959\n",
      "Porcentaje de elementos diferentes de cero: 2.2%\n"
     ]
    }
   ],
   "source": [
    "print('Total de elementos de la matriz de utilidad: %d' % (UtlMtrx.size))\n",
    "print('Total de elementos diferentes de cero: %d' % (np.count_nonzero(UtlMtrx)))\n",
    "print('Porcentaje de elementos diferentes de cero: %.1f%%' % (100 * np.count_nonzero(UtlMtrx) / UtlMtrx.size))"
   ]
  },
  {
   "cell_type": "markdown",
   "id": "83b7c974",
   "metadata": {},
   "source": [
    "Vamos a desarrollar el sistema de recomendación utilizando el método de reducción de dimensionalidad SVD (Singular Value Decomposition) o Descomposición de Valores Singulares.\n",
    "Esta solución es comúnmente empleada como un primer sistema de recomendación, basado en las calificaciones que los usuarios han otorgado en el pasado.\n"
   ]
  },
  {
   "cell_type": "code",
   "execution_count": 89,
   "id": "07f7a4bb",
   "metadata": {},
   "outputs": [
    {
     "name": "stdout",
     "output_type": "stream",
     "text": [
      "(62, 23850)\n"
     ]
    },
    {
     "data": {
      "text/html": [
       "<div>\n",
       "<style scoped>\n",
       "    .dataframe tbody tr th:only-of-type {\n",
       "        vertical-align: middle;\n",
       "    }\n",
       "\n",
       "    .dataframe tbody tr th {\n",
       "        vertical-align: top;\n",
       "    }\n",
       "\n",
       "    .dataframe thead th {\n",
       "        text-align: right;\n",
       "    }\n",
       "</style>\n",
       "<table border=\"1\" class=\"dataframe\">\n",
       "  <thead>\n",
       "    <tr style=\"text-align: right;\">\n",
       "      <th>user_id</th>\n",
       "      <th>302</th>\n",
       "      <th>318</th>\n",
       "      <th>442</th>\n",
       "      <th>464</th>\n",
       "      <th>474</th>\n",
       "      <th>487</th>\n",
       "      <th>526</th>\n",
       "      <th>663</th>\n",
       "      <th>678</th>\n",
       "      <th>703</th>\n",
       "      <th>...</th>\n",
       "      <th>999606</th>\n",
       "      <th>999621</th>\n",
       "      <th>999666</th>\n",
       "      <th>999686</th>\n",
       "      <th>999710</th>\n",
       "      <th>999834</th>\n",
       "      <th>999865</th>\n",
       "      <th>999892</th>\n",
       "      <th>999914</th>\n",
       "      <th>999952</th>\n",
       "    </tr>\n",
       "    <tr>\n",
       "      <th>category</th>\n",
       "      <th></th>\n",
       "      <th></th>\n",
       "      <th></th>\n",
       "      <th></th>\n",
       "      <th></th>\n",
       "      <th></th>\n",
       "      <th></th>\n",
       "      <th></th>\n",
       "      <th></th>\n",
       "      <th></th>\n",
       "      <th></th>\n",
       "      <th></th>\n",
       "      <th></th>\n",
       "      <th></th>\n",
       "      <th></th>\n",
       "      <th></th>\n",
       "      <th></th>\n",
       "      <th></th>\n",
       "      <th></th>\n",
       "      <th></th>\n",
       "      <th></th>\n",
       "    </tr>\n",
       "  </thead>\n",
       "  <tbody>\n",
       "    <tr>\n",
       "      <th>ballgown</th>\n",
       "      <td>0.0</td>\n",
       "      <td>0.0</td>\n",
       "      <td>0.0</td>\n",
       "      <td>0.0</td>\n",
       "      <td>0.0</td>\n",
       "      <td>0.0</td>\n",
       "      <td>0.0</td>\n",
       "      <td>0.0</td>\n",
       "      <td>0.0</td>\n",
       "      <td>0.0</td>\n",
       "      <td>...</td>\n",
       "      <td>0.0</td>\n",
       "      <td>0.0</td>\n",
       "      <td>0.0</td>\n",
       "      <td>0.0</td>\n",
       "      <td>0.0</td>\n",
       "      <td>0.0</td>\n",
       "      <td>0.0</td>\n",
       "      <td>0.0</td>\n",
       "      <td>0.0</td>\n",
       "      <td>0.0</td>\n",
       "    </tr>\n",
       "    <tr>\n",
       "      <th>blazer</th>\n",
       "      <td>0.0</td>\n",
       "      <td>0.0</td>\n",
       "      <td>0.0</td>\n",
       "      <td>0.0</td>\n",
       "      <td>0.0</td>\n",
       "      <td>0.0</td>\n",
       "      <td>0.0</td>\n",
       "      <td>0.0</td>\n",
       "      <td>0.0</td>\n",
       "      <td>0.0</td>\n",
       "      <td>...</td>\n",
       "      <td>0.0</td>\n",
       "      <td>0.0</td>\n",
       "      <td>0.0</td>\n",
       "      <td>0.0</td>\n",
       "      <td>0.0</td>\n",
       "      <td>0.0</td>\n",
       "      <td>0.0</td>\n",
       "      <td>0.0</td>\n",
       "      <td>0.0</td>\n",
       "      <td>0.0</td>\n",
       "    </tr>\n",
       "    <tr>\n",
       "      <th>blouse</th>\n",
       "      <td>0.0</td>\n",
       "      <td>0.0</td>\n",
       "      <td>0.0</td>\n",
       "      <td>0.0</td>\n",
       "      <td>0.0</td>\n",
       "      <td>0.0</td>\n",
       "      <td>0.0</td>\n",
       "      <td>0.0</td>\n",
       "      <td>0.0</td>\n",
       "      <td>0.0</td>\n",
       "      <td>...</td>\n",
       "      <td>0.0</td>\n",
       "      <td>0.0</td>\n",
       "      <td>0.0</td>\n",
       "      <td>0.0</td>\n",
       "      <td>0.0</td>\n",
       "      <td>0.0</td>\n",
       "      <td>0.0</td>\n",
       "      <td>0.0</td>\n",
       "      <td>0.0</td>\n",
       "      <td>0.0</td>\n",
       "    </tr>\n",
       "    <tr>\n",
       "      <th>bomber</th>\n",
       "      <td>0.0</td>\n",
       "      <td>0.0</td>\n",
       "      <td>0.0</td>\n",
       "      <td>0.0</td>\n",
       "      <td>0.0</td>\n",
       "      <td>0.0</td>\n",
       "      <td>0.0</td>\n",
       "      <td>0.0</td>\n",
       "      <td>0.0</td>\n",
       "      <td>0.0</td>\n",
       "      <td>...</td>\n",
       "      <td>0.0</td>\n",
       "      <td>0.0</td>\n",
       "      <td>0.0</td>\n",
       "      <td>0.0</td>\n",
       "      <td>0.0</td>\n",
       "      <td>0.0</td>\n",
       "      <td>0.0</td>\n",
       "      <td>0.0</td>\n",
       "      <td>0.0</td>\n",
       "      <td>0.0</td>\n",
       "    </tr>\n",
       "    <tr>\n",
       "      <th>caftan</th>\n",
       "      <td>0.0</td>\n",
       "      <td>0.0</td>\n",
       "      <td>0.0</td>\n",
       "      <td>0.0</td>\n",
       "      <td>0.0</td>\n",
       "      <td>0.0</td>\n",
       "      <td>0.0</td>\n",
       "      <td>0.0</td>\n",
       "      <td>0.0</td>\n",
       "      <td>0.0</td>\n",
       "      <td>...</td>\n",
       "      <td>0.0</td>\n",
       "      <td>0.0</td>\n",
       "      <td>0.0</td>\n",
       "      <td>0.0</td>\n",
       "      <td>0.0</td>\n",
       "      <td>0.0</td>\n",
       "      <td>0.0</td>\n",
       "      <td>0.0</td>\n",
       "      <td>0.0</td>\n",
       "      <td>0.0</td>\n",
       "    </tr>\n",
       "  </tbody>\n",
       "</table>\n",
       "<p>5 rows × 23850 columns</p>\n",
       "</div>"
      ],
      "text/plain": [
       "user_id   302     318     442     464     474     487     526     663     \\\n",
       "category                                                                   \n",
       "ballgown     0.0     0.0     0.0     0.0     0.0     0.0     0.0     0.0   \n",
       "blazer       0.0     0.0     0.0     0.0     0.0     0.0     0.0     0.0   \n",
       "blouse       0.0     0.0     0.0     0.0     0.0     0.0     0.0     0.0   \n",
       "bomber       0.0     0.0     0.0     0.0     0.0     0.0     0.0     0.0   \n",
       "caftan       0.0     0.0     0.0     0.0     0.0     0.0     0.0     0.0   \n",
       "\n",
       "user_id   678     703     ...  999606  999621  999666  999686  999710  999834  \\\n",
       "category                  ...                                                   \n",
       "ballgown     0.0     0.0  ...     0.0     0.0     0.0     0.0     0.0     0.0   \n",
       "blazer       0.0     0.0  ...     0.0     0.0     0.0     0.0     0.0     0.0   \n",
       "blouse       0.0     0.0  ...     0.0     0.0     0.0     0.0     0.0     0.0   \n",
       "bomber       0.0     0.0  ...     0.0     0.0     0.0     0.0     0.0     0.0   \n",
       "caftan       0.0     0.0  ...     0.0     0.0     0.0     0.0     0.0     0.0   \n",
       "\n",
       "user_id   999865  999892  999914  999952  \n",
       "category                                  \n",
       "ballgown     0.0     0.0     0.0     0.0  \n",
       "blazer       0.0     0.0     0.0     0.0  \n",
       "blouse       0.0     0.0     0.0     0.0  \n",
       "bomber       0.0     0.0     0.0     0.0  \n",
       "caftan       0.0     0.0     0.0     0.0  \n",
       "\n",
       "[5 rows x 23850 columns]"
      ]
     },
     "execution_count": 89,
     "metadata": {},
     "output_type": "execute_result"
    }
   ],
   "source": [
    "# Transponer la matriz de utilidad\n",
    "\n",
    "X = UtlMtrx.T\n",
    "\n",
    "print(X.shape)\n",
    "X.head()"
   ]
  },
  {
   "cell_type": "code",
   "execution_count": 133,
   "id": "462dd42d",
   "metadata": {},
   "outputs": [
    {
     "name": "stdout",
     "output_type": "stream",
     "text": [
      "Cantidad de información simplificada con los primeros 7 vectores singulares:\n",
      "43.2%\n"
     ]
    }
   ],
   "source": [
    "SVD = TruncatedSVD(n_components=658, random_state=42)  \n",
    "SVD.fit(X)\n",
    "\n",
    "# Vamos a validar con 7 valores singulares\n",
    "\n",
    "num_sv = 7\n",
    "\n",
    "print('Cantidad de información simplificada con los primeros %d vectores singulares:' % num_sv)\n",
    "print('%.1f%%' %  (100 * (1- (SVD.singular_values_[0:num_sv]).sum() / (SVD.singular_values_).sum())))"
   ]
  },
  {
   "cell_type": "code",
   "execution_count": 105,
   "id": "45b703f3",
   "metadata": {},
   "outputs": [
    {
     "data": {
      "text/plain": [
       "(62, 7)"
      ]
     },
     "execution_count": 105,
     "metadata": {},
     "output_type": "execute_result"
    }
   ],
   "source": [
    "num_sv = 7\n",
    "\n",
    "SVD = TruncatedSVD(n_components=num_sv, random_state=42)\n",
    "\n",
    "clothes_matrix = SVD.fit_transform(X)\n",
    "clothes_matrix.shape"
   ]
  },
  {
   "cell_type": "markdown",
   "id": "43da09aa",
   "metadata": {},
   "source": [
    "Utilizando la nueva matriz, calculamos el coeficiente de correlación de Pearson.\n",
    "\n",
    "Este será el indicador que nos mostrará la similitud entre categorías y, por ende, si es o no una opción recomendable."
   ]
  },
  {
   "cell_type": "code",
   "execution_count": 106,
   "id": "73024597",
   "metadata": {},
   "outputs": [
    {
     "data": {
      "text/plain": [
       "array([[1.        , 0.11734568, 0.06352402, 0.08279376, 0.08856077],\n",
       "       [0.11734568, 1.        , 0.99183639, 0.97821323, 0.91453735],\n",
       "       [0.06352402, 0.99183639, 1.        , 0.9924488 , 0.95187131],\n",
       "       [0.08279376, 0.97821323, 0.9924488 , 1.        , 0.9760327 ],\n",
       "       [0.08856077, 0.91453735, 0.95187131, 0.9760327 , 1.        ]])"
      ]
     },
     "execution_count": 106,
     "metadata": {},
     "output_type": "execute_result"
    }
   ],
   "source": [
    "# Matriz de correlación Pearson\n",
    "\n",
    "corrMtx = np.corrcoef(clothes_matrix)\n",
    " \n",
    "corrMtx[0:5,0:5]"
   ]
  },
  {
   "cell_type": "code",
   "execution_count": 120,
   "id": "b715e983",
   "metadata": {},
   "outputs": [
    {
     "data": {
      "text/plain": [
       "13"
      ]
     },
     "execution_count": 120,
     "metadata": {},
     "output_type": "execute_result"
    }
   ],
   "source": [
    "liked = 'dress'\n",
    "\n",
    "names = UtlMtrx.columns \n",
    "names_list = list(names)\n",
    "id_liked = names_list.index(liked)\n",
    "\n",
    "id_liked"
   ]
  },
  {
   "cell_type": "code",
   "execution_count": 121,
   "id": "b4cab1d2",
   "metadata": {},
   "outputs": [
    {
     "name": "stdout",
     "output_type": "stream",
     "text": [
      "(62,)\n"
     ]
    },
    {
     "data": {
      "text/plain": [
       "array([0.97152554, 0.29974868, 0.23865196, 0.24930346, 0.22194159,\n",
       "       0.1712353 , 0.35565556, 0.29833755, 0.23785135, 0.11320672])"
      ]
     },
     "execution_count": 121,
     "metadata": {},
     "output_type": "execute_result"
    }
   ],
   "source": [
    "# Revisamos la matriz de correlación con algunas otras categorías\n",
    "\n",
    "corr_recom = corrMtx[id_liked]\n",
    "print(corr_recom.shape)\n",
    "corr_recom[0:10]"
   ]
  },
  {
   "cell_type": "markdown",
   "id": "0de69771",
   "metadata": {},
   "source": [
    "Obtenemos las recomendaciones de acuerdo al la categoría seleccionada\n",
    "Ejemplo 1:\n",
    "limitamos la salida de la lista especificando un valor alto del coeficiente de correlación, en este caso, entre 0.80 y 0.99:"
   ]
  },
  {
   "cell_type": "code",
   "execution_count": 124,
   "id": "2c27ba79",
   "metadata": {},
   "outputs": [
    {
     "name": "stdout",
     "output_type": "stream",
     "text": [
      "Recomendaciones: \n"
     ]
    },
    {
     "data": {
      "text/plain": [
       "['ballgown', 'frock', 'mini', 'suit']"
      ]
     },
     "execution_count": 124,
     "metadata": {},
     "output_type": "execute_result"
    }
   ],
   "source": [
    "# Categoría gown\n",
    "print('Recomendaciones: ')\n",
    "\n",
    "# Seleccionamos categorías entre el 80 y el 99 de correlación\n",
    "list(names[(corr_recom > 0.80) & (corr_recom < 0.99)]) "
   ]
  },
  {
   "cell_type": "code",
   "execution_count": 126,
   "id": "57d4c7bb",
   "metadata": {},
   "outputs": [
    {
     "data": {
      "text/plain": [
       "[(0.9715255443159208, 'ballgown'),\n",
       " (0.8914046099689586, 'frock'),\n",
       " (0.876546702570356, 'suit'),\n",
       " (0.813429409648354, 'mini')]"
      ]
     },
     "execution_count": 126,
     "metadata": {},
     "output_type": "execute_result"
    }
   ],
   "source": [
    "ids = (corr_recom > .80) & (corr_recom < 0.99)\n",
    "tmp = list()\n",
    "\n",
    "for i in range(len(names[ids])):\n",
    "    tmp.append((corr_recom[ids][i], names[ids][i]))\n",
    "\n",
    "sorted(tmp, key=lambda x:x[0], reverse=True) "
   ]
  },
  {
   "cell_type": "markdown",
   "id": "749a4563",
   "metadata": {},
   "source": [
    "Como podemos observar, obtenemos una recomendación basada en la correlación de nuestra prenda seleccionada, podemos hacer esto mismo con las calificaciones de cliente"
   ]
  }
 ],
 "metadata": {
  "kernelspec": {
   "display_name": "Python 3 (ipykernel)",
   "language": "python",
   "name": "python3"
  },
  "language_info": {
   "codemirror_mode": {
    "name": "ipython",
    "version": 3
   },
   "file_extension": ".py",
   "mimetype": "text/x-python",
   "name": "python",
   "nbconvert_exporter": "python",
   "pygments_lexer": "ipython3",
   "version": "3.9.13"
  }
 },
 "nbformat": 4,
 "nbformat_minor": 5
}
