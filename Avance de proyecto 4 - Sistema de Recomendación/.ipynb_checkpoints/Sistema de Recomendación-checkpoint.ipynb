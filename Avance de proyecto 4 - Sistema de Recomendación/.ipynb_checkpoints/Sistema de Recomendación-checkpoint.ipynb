{
 "cells": [
  {
   "cell_type": "markdown",
   "id": "16a4d01e",
   "metadata": {},
   "source": [
    "# **Maestría en Inteligencia Artificial Aplicada**\n",
    "\n",
    "## Curso: **Análisis de grandes volúmenes de datos**\n",
    "\n",
    "### Tecnológico de Monterrey\n",
    "\n",
    "### Dr. Nestor Velasco Bermeo\n",
    "\n",
    "## Adtividad Semana 9\n",
    "\n",
    "### **Modelos Transformer & LLM**"
   ]
  },
  {
   "cell_type": "markdown",
   "id": "fc34d7c5",
   "metadata": {},
   "source": [
    "# Sistema de recomendacion de prendas basado en SVD"
   ]
  },
  {
   "cell_type": "code",
   "execution_count": 2,
   "id": "f82624c9",
   "metadata": {},
   "outputs": [],
   "source": [
    "# librerías\n",
    "\n",
    "import numpy as np\n",
    "import pandas as pd\n",
    "import gdown\n",
    "\n",
    "import matplotlib.pyplot as plt\n",
    "import seaborn as sns\n",
    "%matplotlib inline\n",
    "plt.style.use('fivethirtyeight')"
   ]
  },
  {
   "cell_type": "code",
   "execution_count": 78,
   "id": "17aa6483",
   "metadata": {},
   "outputs": [
    {
     "data": {
      "text/html": [
       "<div>\n",
       "<style scoped>\n",
       "    .dataframe tbody tr th:only-of-type {\n",
       "        vertical-align: middle;\n",
       "    }\n",
       "\n",
       "    .dataframe tbody tr th {\n",
       "        vertical-align: top;\n",
       "    }\n",
       "\n",
       "    .dataframe thead th {\n",
       "        text-align: right;\n",
       "    }\n",
       "</style>\n",
       "<table border=\"1\" class=\"dataframe\">\n",
       "  <thead>\n",
       "    <tr style=\"text-align: right;\">\n",
       "      <th></th>\n",
       "      <th>fit</th>\n",
       "      <th>user_id</th>\n",
       "      <th>bust size</th>\n",
       "      <th>item_id</th>\n",
       "      <th>weight</th>\n",
       "      <th>rating</th>\n",
       "      <th>rented for</th>\n",
       "      <th>review_text</th>\n",
       "      <th>body type</th>\n",
       "      <th>review_summary</th>\n",
       "      <th>category</th>\n",
       "      <th>height</th>\n",
       "      <th>size</th>\n",
       "      <th>age</th>\n",
       "      <th>review_date</th>\n",
       "    </tr>\n",
       "  </thead>\n",
       "  <tbody>\n",
       "    <tr>\n",
       "      <th>0</th>\n",
       "      <td>fit</td>\n",
       "      <td>420272</td>\n",
       "      <td>34d</td>\n",
       "      <td>2260466</td>\n",
       "      <td>137lbs</td>\n",
       "      <td>10.0</td>\n",
       "      <td>vacation</td>\n",
       "      <td>An adorable romper! Belt and zipper were a lit...</td>\n",
       "      <td>hourglass</td>\n",
       "      <td>So many compliments!</td>\n",
       "      <td>romper</td>\n",
       "      <td>5' 8\"</td>\n",
       "      <td>14</td>\n",
       "      <td>28.0</td>\n",
       "      <td>April 20, 2016</td>\n",
       "    </tr>\n",
       "    <tr>\n",
       "      <th>1</th>\n",
       "      <td>fit</td>\n",
       "      <td>273551</td>\n",
       "      <td>34b</td>\n",
       "      <td>153475</td>\n",
       "      <td>132lbs</td>\n",
       "      <td>10.0</td>\n",
       "      <td>other</td>\n",
       "      <td>I rented this dress for a photo shoot. The the...</td>\n",
       "      <td>straight &amp; narrow</td>\n",
       "      <td>I felt so glamourous!!!</td>\n",
       "      <td>gown</td>\n",
       "      <td>5' 6\"</td>\n",
       "      <td>12</td>\n",
       "      <td>36.0</td>\n",
       "      <td>June 18, 2013</td>\n",
       "    </tr>\n",
       "    <tr>\n",
       "      <th>2</th>\n",
       "      <td>fit</td>\n",
       "      <td>360448</td>\n",
       "      <td>NaN</td>\n",
       "      <td>1063761</td>\n",
       "      <td>NaN</td>\n",
       "      <td>10.0</td>\n",
       "      <td>party</td>\n",
       "      <td>This hugged in all the right places! It was a ...</td>\n",
       "      <td>NaN</td>\n",
       "      <td>It was a great time to celebrate the (almost) ...</td>\n",
       "      <td>sheath</td>\n",
       "      <td>5' 4\"</td>\n",
       "      <td>4</td>\n",
       "      <td>116.0</td>\n",
       "      <td>December 14, 2015</td>\n",
       "    </tr>\n",
       "    <tr>\n",
       "      <th>3</th>\n",
       "      <td>fit</td>\n",
       "      <td>909926</td>\n",
       "      <td>34c</td>\n",
       "      <td>126335</td>\n",
       "      <td>135lbs</td>\n",
       "      <td>8.0</td>\n",
       "      <td>formal affair</td>\n",
       "      <td>I rented this for my company's black tie award...</td>\n",
       "      <td>pear</td>\n",
       "      <td>Dress arrived on time and in perfect condition.</td>\n",
       "      <td>dress</td>\n",
       "      <td>5' 5\"</td>\n",
       "      <td>8</td>\n",
       "      <td>34.0</td>\n",
       "      <td>February 12, 2014</td>\n",
       "    </tr>\n",
       "    <tr>\n",
       "      <th>4</th>\n",
       "      <td>fit</td>\n",
       "      <td>151944</td>\n",
       "      <td>34b</td>\n",
       "      <td>616682</td>\n",
       "      <td>145lbs</td>\n",
       "      <td>10.0</td>\n",
       "      <td>wedding</td>\n",
       "      <td>I have always been petite in my upper body and...</td>\n",
       "      <td>athletic</td>\n",
       "      <td>Was in love with this dress !!!</td>\n",
       "      <td>gown</td>\n",
       "      <td>5' 9\"</td>\n",
       "      <td>12</td>\n",
       "      <td>27.0</td>\n",
       "      <td>September 26, 2016</td>\n",
       "    </tr>\n",
       "  </tbody>\n",
       "</table>\n",
       "</div>"
      ],
      "text/plain": [
       "   fit  user_id bust size  item_id  weight  rating     rented for  \\\n",
       "0  fit   420272       34d  2260466  137lbs    10.0       vacation   \n",
       "1  fit   273551       34b   153475  132lbs    10.0          other   \n",
       "2  fit   360448       NaN  1063761     NaN    10.0          party   \n",
       "3  fit   909926       34c   126335  135lbs     8.0  formal affair   \n",
       "4  fit   151944       34b   616682  145lbs    10.0        wedding   \n",
       "\n",
       "                                         review_text          body type  \\\n",
       "0  An adorable romper! Belt and zipper were a lit...          hourglass   \n",
       "1  I rented this dress for a photo shoot. The the...  straight & narrow   \n",
       "2  This hugged in all the right places! It was a ...                NaN   \n",
       "3  I rented this for my company's black tie award...               pear   \n",
       "4  I have always been petite in my upper body and...           athletic   \n",
       "\n",
       "                                      review_summary category height  size  \\\n",
       "0                               So many compliments!   romper  5' 8\"    14   \n",
       "1                            I felt so glamourous!!!     gown  5' 6\"    12   \n",
       "2  It was a great time to celebrate the (almost) ...   sheath  5' 4\"     4   \n",
       "3   Dress arrived on time and in perfect condition.     dress  5' 5\"     8   \n",
       "4                    Was in love with this dress !!!     gown  5' 9\"    12   \n",
       "\n",
       "     age         review_date  \n",
       "0   28.0      April 20, 2016  \n",
       "1   36.0       June 18, 2013  \n",
       "2  116.0   December 14, 2015  \n",
       "3   34.0   February 12, 2014  \n",
       "4   27.0  September 26, 2016  "
      ]
     },
     "execution_count": 78,
     "metadata": {},
     "output_type": "execute_result"
    }
   ],
   "source": [
    "'''\n",
    "    Cargamos nuestro data set con los rankins\n",
    "    \n",
    "    Como podemos ver contiene las columnas: \n",
    "        fit: fit feedback\n",
    "        user_id: a unique id for the customer\n",
    "        bust: bust measurement of customer\n",
    "        item_id: unique product id\n",
    "        weight: weight of the product\n",
    "        rating: dating of the product 0-10\n",
    "        rented for: reason of rent\n",
    "        review_text: customer comments\n",
    "        body type: clothe body type\n",
    "        review_summary: short customer comments\n",
    "        category: the category of the product\n",
    "        height: height of the customer\n",
    "        size: the standardized size of the product\n",
    "        age: customer age\n",
    "        review_date: date of review\n",
    "'''\n",
    "\n",
    "my_dt = pd.read_json('renttherunway_final_data.json', lines=True)\n",
    "my_dt.head(5)"
   ]
  },
  {
   "cell_type": "code",
   "execution_count": 4,
   "id": "985cd776",
   "metadata": {},
   "outputs": [
    {
     "data": {
      "text/plain": [
       "item_id\n",
       "123373    8.801749\n",
       "123793    9.537923\n",
       "124204    9.308176\n",
       "124553    8.563895\n",
       "125424    8.995708\n",
       "Name: rating, dtype: float64"
      ]
     },
     "execution_count": 4,
     "metadata": {},
     "output_type": "execute_result"
    }
   ],
   "source": [
    "'''\n",
    "    Una vez que tenemos el data set unificado, podemos calcular el promedio de calificaciones por cada prenda\n",
    "'''\n",
    "\n",
    "my_dt.groupby('item_id')['rating'].mean().head()"
   ]
  },
  {
   "cell_type": "code",
   "execution_count": 5,
   "id": "ed597eef",
   "metadata": {},
   "outputs": [
    {
     "data": {
      "text/plain": [
       "item_id\n",
       "126335    2231\n",
       "174086    1724\n",
       "123793    1714\n",
       "132738    1577\n",
       "145906    1472\n",
       "Name: rating, dtype: int64"
      ]
     },
     "execution_count": 5,
     "metadata": {},
     "output_type": "execute_result"
    }
   ],
   "source": [
    "'''\n",
    "    El ordenamiento anterior tiene un problema, en caso de que una prenda solo se haya calificado una sola vez con calificación de 10\n",
    "    aparecerá en los primeros lugares, sin embargo, eso no significa que sea del agrado para la mayoría de usuarios\n",
    "    por lo que, haremos un conteo de los ranking por prenda\n",
    "'''\n",
    "\n",
    "my_dt.groupby('item_id')['rating'].count().sort_values(ascending=False).head()"
   ]
  },
  {
   "cell_type": "code",
   "execution_count": 6,
   "id": "693987e1",
   "metadata": {},
   "outputs": [
    {
     "data": {
      "text/plain": [
       "5850"
      ]
     },
     "execution_count": 6,
     "metadata": {},
     "output_type": "execute_result"
    }
   ],
   "source": [
    "my_dt[\"item_id\"].nunique()"
   ]
  },
  {
   "cell_type": "markdown",
   "id": "1a02a443",
   "metadata": {},
   "source": [
    "Para contrarestar el afecto anteriormente descrito, se generará un nuevo data set agregando las columnas rating y numero de ratings (calificaciones)"
   ]
  },
  {
   "cell_type": "code",
   "execution_count": 7,
   "id": "d6ae23fb",
   "metadata": {},
   "outputs": [
    {
     "data": {
      "text/html": [
       "<div>\n",
       "<style scoped>\n",
       "    .dataframe tbody tr th:only-of-type {\n",
       "        vertical-align: middle;\n",
       "    }\n",
       "\n",
       "    .dataframe tbody tr th {\n",
       "        vertical-align: top;\n",
       "    }\n",
       "\n",
       "    .dataframe thead th {\n",
       "        text-align: right;\n",
       "    }\n",
       "</style>\n",
       "<table border=\"1\" class=\"dataframe\">\n",
       "  <thead>\n",
       "    <tr style=\"text-align: right;\">\n",
       "      <th></th>\n",
       "      <th>rating</th>\n",
       "      <th>rating_counts</th>\n",
       "    </tr>\n",
       "    <tr>\n",
       "      <th>item_id</th>\n",
       "      <th></th>\n",
       "      <th></th>\n",
       "    </tr>\n",
       "  </thead>\n",
       "  <tbody>\n",
       "    <tr>\n",
       "      <th>123373</th>\n",
       "      <td>8.801749</td>\n",
       "      <td>686</td>\n",
       "    </tr>\n",
       "    <tr>\n",
       "      <th>123793</th>\n",
       "      <td>9.537923</td>\n",
       "      <td>1714</td>\n",
       "    </tr>\n",
       "    <tr>\n",
       "      <th>124204</th>\n",
       "      <td>9.308176</td>\n",
       "      <td>795</td>\n",
       "    </tr>\n",
       "    <tr>\n",
       "      <th>124553</th>\n",
       "      <td>8.563895</td>\n",
       "      <td>493</td>\n",
       "    </tr>\n",
       "    <tr>\n",
       "      <th>125424</th>\n",
       "      <td>8.995708</td>\n",
       "      <td>466</td>\n",
       "    </tr>\n",
       "  </tbody>\n",
       "</table>\n",
       "</div>"
      ],
      "text/plain": [
       "           rating  rating_counts\n",
       "item_id                         \n",
       "123373   8.801749            686\n",
       "123793   9.537923           1714\n",
       "124204   9.308176            795\n",
       "124553   8.563895            493\n",
       "125424   8.995708            466"
      ]
     },
     "execution_count": 7,
     "metadata": {},
     "output_type": "execute_result"
    }
   ],
   "source": [
    "ratings_mean_count = pd.DataFrame(my_dt.groupby('item_id')['rating'].mean())\n",
    "ratings_mean_count['rating_counts'] = pd.DataFrame(my_dt.groupby('item_id')['rating'].count())\n",
    "ratings_mean_count.head()"
   ]
  },
  {
   "cell_type": "code",
   "execution_count": 8,
   "id": "94f7f029",
   "metadata": {},
   "outputs": [
    {
     "data": {
      "text/plain": [
       "<Axes: >"
      ]
     },
     "execution_count": 8,
     "metadata": {},
     "output_type": "execute_result"
    },
    {
     "data": {
      "image/png": "[encoded data removed]",
      "text/plain": [
       "<Figure size 800x600 with 1 Axes>"
      ]
     },
     "metadata": {},
     "output_type": "display_data"
    }
   ],
   "source": [
    "'''\n",
    "    Ahora graficaremos el numero de calificaciones representada por la columna rating_counts de nuestro data set.\n",
    "    De los resultados podemos observar que tenemos que la mayoría de prendas han recibido menos de 100 calificaciones\n",
    "    Hay prendas que no tienen más de 100 recomendaciones\n",
    "'''\n",
    "\n",
    "plt.figure(figsize=(8,6))\n",
    "plt.rcParams['patch.force_edgecolor'] = True\n",
    "ratings_mean_count['rating_counts'].hist(bins=50)"
   ]
  },
  {
   "cell_type": "code",
   "execution_count": 9,
   "id": "27ef0430",
   "metadata": {},
   "outputs": [
    {
     "data": {
      "text/plain": [
       "<Axes: >"
      ]
     },
     "execution_count": 9,
     "metadata": {},
     "output_type": "execute_result"
    },
    {
     "data": {
      "image/png": "[encoded data removed]",
      "text/plain": [
       "<Figure size 800x600 with 1 Axes>"
      ]
     },
     "metadata": {},
     "output_type": "display_data"
    }
   ],
   "source": [
    "'''\n",
    "    Como podemos observar en el siguietne histograma, la mayoría de calificaciones se concentran entre 8 y 10\n",
    "'''\n",
    "\n",
    "plt.figure(figsize=(8,6))\n",
    "plt.rcParams['patch.force_edgecolor'] = True\n",
    "ratings_mean_count['rating'].hist(bins=50)"
   ]
  },
  {
   "cell_type": "code",
   "execution_count": 10,
   "id": "106b98fa",
   "metadata": {},
   "outputs": [
    {
     "data": {
      "text/plain": [
       "<seaborn.axisgrid.JointGrid at 0x1f88d14aa60>"
      ]
     },
     "execution_count": 10,
     "metadata": {},
     "output_type": "execute_result"
    },
    {
     "data": {
      "text/plain": [
       "<Figure size 800x600 with 0 Axes>"
      ]
     },
     "metadata": {},
     "output_type": "display_data"
    },
    {
     "data": {
      "image/png": "[encoded data removed]",
      "text/plain": [
       "<Figure size 600x600 with 3 Axes>"
      ]
     },
     "metadata": {},
     "output_type": "display_data"
    }
   ],
   "source": [
    "'''\n",
    "    Ahora vamos a graficar en un gráfico de dispersión el número de ratings y el conteo de los mismos por cada prenda.\n",
    "    Como podemos observar, usualmente las prendas con un alto número de calificaciones también se califican con una alta\n",
    "    calificación.\n",
    "'''\n",
    "\n",
    "plt.figure(figsize=(8,6))\n",
    "plt.rcParams['patch.force_edgecolor'] = True\n",
    "sns.jointplot(x='rating', y='rating_counts', data=ratings_mean_count, alpha=0.4)"
   ]
  },
  {
   "cell_type": "markdown",
   "id": "97a1f1b4",
   "metadata": {},
   "source": [
    "# Similutudes entre prendas"
   ]
  },
  {
   "cell_type": "code",
   "execution_count": 11,
   "id": "b7075bf2",
   "metadata": {},
   "outputs": [
    {
     "data": {
      "text/plain": [
       "item_id\n",
       "123373      686.0\n",
       "123793     1714.0\n",
       "124204      795.0\n",
       "124553      493.0\n",
       "125424      466.0\n",
       "            ...  \n",
       "2963850      11.0\n",
       "2964470       4.0\n",
       "2965009       4.0\n",
       "2965924       3.0\n",
       "2966087       8.0\n",
       "Name: rating_counts, Length: 5850, dtype: float64"
      ]
     },
     "execution_count": 11,
     "metadata": {},
     "output_type": "execute_result"
    }
   ],
   "source": [
    "ratings_mean_count.groupby('item_id')['rating_counts'].mean()"
   ]
  },
  {
   "cell_type": "code",
   "execution_count": 12,
   "id": "fbed6d36",
   "metadata": {},
   "outputs": [
    {
     "data": {
      "text/plain": [
       "(5850, 2)"
      ]
     },
     "execution_count": 12,
     "metadata": {},
     "output_type": "execute_result"
    }
   ],
   "source": [
    "ratings_mean_count.shape"
   ]
  },
  {
   "cell_type": "code",
   "execution_count": 15,
   "id": "a4c67e20",
   "metadata": {},
   "outputs": [
    {
     "data": {
      "text/plain": [
       "(2462,)"
      ]
     },
     "execution_count": 15,
     "metadata": {},
     "output_type": "execute_result"
    }
   ],
   "source": [
    "'''\n",
    "   Extraemos las prendas con menos de 10 comentarios\n",
    "'''\n",
    "rare_clothes = ratings_mean_count[ratings_mean_count.groupby('item_id')['rating_counts'].mean() <= 10].index\n",
    "rare_clothes.shape"
   ]
  },
  {
   "cell_type": "code",
   "execution_count": 16,
   "id": "5a34ef81",
   "metadata": {},
   "outputs": [
    {
     "data": {
      "text/plain": [
       "(180749, 15)"
      ]
     },
     "execution_count": 16,
     "metadata": {},
     "output_type": "execute_result"
    }
   ],
   "source": [
    "'''\n",
    "    De nuestro data set original se eliminan aquellas prendas con pocos comentarios\n",
    "'''\n",
    "common_clothes = my_dt[~my_dt[\"item_id\"].isin(rare_clothes)]\n",
    "common_clothes.shape"
   ]
  },
  {
   "cell_type": "code",
   "execution_count": 45,
   "id": "653f9b1b",
   "metadata": {},
   "outputs": [
    {
     "data": {
      "text/html": [
       "<div>\n",
       "<style scoped>\n",
       "    .dataframe tbody tr th:only-of-type {\n",
       "        vertical-align: middle;\n",
       "    }\n",
       "\n",
       "    .dataframe tbody tr th {\n",
       "        vertical-align: top;\n",
       "    }\n",
       "\n",
       "    .dataframe thead th {\n",
       "        text-align: right;\n",
       "    }\n",
       "</style>\n",
       "<table border=\"1\" class=\"dataframe\">\n",
       "  <thead>\n",
       "    <tr style=\"text-align: right;\">\n",
       "      <th>item_id</th>\n",
       "      <th>123373</th>\n",
       "      <th>123793</th>\n",
       "      <th>124204</th>\n",
       "      <th>124553</th>\n",
       "      <th>125424</th>\n",
       "      <th>125465</th>\n",
       "      <th>125564</th>\n",
       "      <th>126335</th>\n",
       "      <th>127081</th>\n",
       "      <th>127495</th>\n",
       "      <th>...</th>\n",
       "      <th>2955734</th>\n",
       "      <th>2956453</th>\n",
       "      <th>2957481</th>\n",
       "      <th>2958376</th>\n",
       "      <th>2958657</th>\n",
       "      <th>2959486</th>\n",
       "      <th>2960025</th>\n",
       "      <th>2960969</th>\n",
       "      <th>2962646</th>\n",
       "      <th>2963850</th>\n",
       "    </tr>\n",
       "    <tr>\n",
       "      <th>user_id</th>\n",
       "      <th></th>\n",
       "      <th></th>\n",
       "      <th></th>\n",
       "      <th></th>\n",
       "      <th></th>\n",
       "      <th></th>\n",
       "      <th></th>\n",
       "      <th></th>\n",
       "      <th></th>\n",
       "      <th></th>\n",
       "      <th></th>\n",
       "      <th></th>\n",
       "      <th></th>\n",
       "      <th></th>\n",
       "      <th></th>\n",
       "      <th></th>\n",
       "      <th></th>\n",
       "      <th></th>\n",
       "      <th></th>\n",
       "      <th></th>\n",
       "      <th></th>\n",
       "    </tr>\n",
       "  </thead>\n",
       "  <tbody>\n",
       "    <tr>\n",
       "      <th>9</th>\n",
       "      <td>NaN</td>\n",
       "      <td>NaN</td>\n",
       "      <td>NaN</td>\n",
       "      <td>NaN</td>\n",
       "      <td>NaN</td>\n",
       "      <td>NaN</td>\n",
       "      <td>NaN</td>\n",
       "      <td>NaN</td>\n",
       "      <td>NaN</td>\n",
       "      <td>NaN</td>\n",
       "      <td>...</td>\n",
       "      <td>NaN</td>\n",
       "      <td>NaN</td>\n",
       "      <td>NaN</td>\n",
       "      <td>NaN</td>\n",
       "      <td>NaN</td>\n",
       "      <td>NaN</td>\n",
       "      <td>NaN</td>\n",
       "      <td>NaN</td>\n",
       "      <td>NaN</td>\n",
       "      <td>NaN</td>\n",
       "    </tr>\n",
       "    <tr>\n",
       "      <th>25</th>\n",
       "      <td>NaN</td>\n",
       "      <td>NaN</td>\n",
       "      <td>NaN</td>\n",
       "      <td>NaN</td>\n",
       "      <td>NaN</td>\n",
       "      <td>NaN</td>\n",
       "      <td>NaN</td>\n",
       "      <td>NaN</td>\n",
       "      <td>NaN</td>\n",
       "      <td>NaN</td>\n",
       "      <td>...</td>\n",
       "      <td>NaN</td>\n",
       "      <td>NaN</td>\n",
       "      <td>NaN</td>\n",
       "      <td>NaN</td>\n",
       "      <td>NaN</td>\n",
       "      <td>NaN</td>\n",
       "      <td>NaN</td>\n",
       "      <td>NaN</td>\n",
       "      <td>NaN</td>\n",
       "      <td>NaN</td>\n",
       "    </tr>\n",
       "    <tr>\n",
       "      <th>35</th>\n",
       "      <td>NaN</td>\n",
       "      <td>NaN</td>\n",
       "      <td>NaN</td>\n",
       "      <td>NaN</td>\n",
       "      <td>NaN</td>\n",
       "      <td>NaN</td>\n",
       "      <td>NaN</td>\n",
       "      <td>NaN</td>\n",
       "      <td>NaN</td>\n",
       "      <td>NaN</td>\n",
       "      <td>...</td>\n",
       "      <td>NaN</td>\n",
       "      <td>NaN</td>\n",
       "      <td>NaN</td>\n",
       "      <td>NaN</td>\n",
       "      <td>NaN</td>\n",
       "      <td>NaN</td>\n",
       "      <td>NaN</td>\n",
       "      <td>NaN</td>\n",
       "      <td>NaN</td>\n",
       "      <td>NaN</td>\n",
       "    </tr>\n",
       "    <tr>\n",
       "      <th>44</th>\n",
       "      <td>NaN</td>\n",
       "      <td>NaN</td>\n",
       "      <td>NaN</td>\n",
       "      <td>NaN</td>\n",
       "      <td>NaN</td>\n",
       "      <td>NaN</td>\n",
       "      <td>NaN</td>\n",
       "      <td>NaN</td>\n",
       "      <td>NaN</td>\n",
       "      <td>NaN</td>\n",
       "      <td>...</td>\n",
       "      <td>NaN</td>\n",
       "      <td>NaN</td>\n",
       "      <td>NaN</td>\n",
       "      <td>NaN</td>\n",
       "      <td>NaN</td>\n",
       "      <td>NaN</td>\n",
       "      <td>NaN</td>\n",
       "      <td>NaN</td>\n",
       "      <td>NaN</td>\n",
       "      <td>NaN</td>\n",
       "    </tr>\n",
       "    <tr>\n",
       "      <th>47</th>\n",
       "      <td>NaN</td>\n",
       "      <td>NaN</td>\n",
       "      <td>NaN</td>\n",
       "      <td>NaN</td>\n",
       "      <td>NaN</td>\n",
       "      <td>NaN</td>\n",
       "      <td>NaN</td>\n",
       "      <td>NaN</td>\n",
       "      <td>NaN</td>\n",
       "      <td>NaN</td>\n",
       "      <td>...</td>\n",
       "      <td>NaN</td>\n",
       "      <td>NaN</td>\n",
       "      <td>NaN</td>\n",
       "      <td>NaN</td>\n",
       "      <td>NaN</td>\n",
       "      <td>NaN</td>\n",
       "      <td>NaN</td>\n",
       "      <td>NaN</td>\n",
       "      <td>NaN</td>\n",
       "      <td>NaN</td>\n",
       "    </tr>\n",
       "  </tbody>\n",
       "</table>\n",
       "<p>5 rows × 3388 columns</p>\n",
       "</div>"
      ],
      "text/plain": [
       "item_id  123373   123793   124204   124553   125424   125465   125564   \\\n",
       "user_id                                                                  \n",
       "9            NaN      NaN      NaN      NaN      NaN      NaN      NaN   \n",
       "25           NaN      NaN      NaN      NaN      NaN      NaN      NaN   \n",
       "35           NaN      NaN      NaN      NaN      NaN      NaN      NaN   \n",
       "44           NaN      NaN      NaN      NaN      NaN      NaN      NaN   \n",
       "47           NaN      NaN      NaN      NaN      NaN      NaN      NaN   \n",
       "\n",
       "item_id  126335   127081   127495   ...  2955734  2956453  2957481  2958376  \\\n",
       "user_id                             ...                                       \n",
       "9            NaN      NaN      NaN  ...      NaN      NaN      NaN      NaN   \n",
       "25           NaN      NaN      NaN  ...      NaN      NaN      NaN      NaN   \n",
       "35           NaN      NaN      NaN  ...      NaN      NaN      NaN      NaN   \n",
       "44           NaN      NaN      NaN  ...      NaN      NaN      NaN      NaN   \n",
       "47           NaN      NaN      NaN  ...      NaN      NaN      NaN      NaN   \n",
       "\n",
       "item_id  2958657  2959486  2960025  2960969  2962646  2963850  \n",
       "user_id                                                        \n",
       "9            NaN      NaN      NaN      NaN      NaN      NaN  \n",
       "25           NaN      NaN      NaN      NaN      NaN      NaN  \n",
       "35           NaN      NaN      NaN      NaN      NaN      NaN  \n",
       "44           NaN      NaN      NaN      NaN      NaN      NaN  \n",
       "47           NaN      NaN      NaN      NaN      NaN      NaN  \n",
       "\n",
       "[5 rows x 3388 columns]"
      ]
     },
     "execution_count": 45,
     "metadata": {},
     "output_type": "execute_result"
    }
   ],
   "source": [
    "'''\n",
    "    Se genera una matriz con los titulos y sus correspondientes ratings\n",
    "'''\n",
    "user_clothe_rating = common_clothes.pivot_table(index='user_id', columns='item_id', values='rating')\n",
    "user_clothe_rating.head()"
   ]
  },
  {
   "cell_type": "markdown",
   "id": "8b0e3ea0",
   "metadata": {},
   "source": [
    "# Función para recomendaciones "
   ]
  },
  {
   "cell_type": "code",
   "execution_count": 74,
   "id": "970c334d",
   "metadata": {},
   "outputs": [],
   "source": [
    "def clothes_recommend(clothe, head):\n",
    "    \n",
    "    if clothe in user_clothe_rating.columns:\n",
    "        clothes_rating = user_clothe_rating[clothe] # Prenda base para correlación\n",
    "        corr_clothes = user_clothe_rating.corrwith(clothes_rating) # Función de correlación\n",
    "        result_df = pd.DataFrame(corr_clothes, columns=['Correlation'])\n",
    "        result_df.dropna(inplace=True)\n",
    "        result_df = result_df.join(ratings_mean_count['rating_counts'])\n",
    "        result_df = result_df.sort_values('Correlation', ascending=False).head(head)\n",
    "        print('Si rentaste la prenda {}, te pueden interesar las siguientes prendas:'.format(clothe))\n",
    "        print(result_df[1:10])\n",
    "    else:\n",
    "        print(f\"La columna '{clothe}' no existe en el DataFrame.\")"
   ]
  },
  {
   "cell_type": "code",
   "execution_count": 75,
   "id": "c3ebb3db",
   "metadata": {},
   "outputs": [
    {
     "name": "stderr",
     "output_type": "stream",
     "text": [
      "C:\\Users\\ingsa\\AppData\\Roaming\\Python\\Python39\\site-packages\\numpy\\lib\\function_base.py:2846: RuntimeWarning: Degrees of freedom <= 0 for slice\n",
      "  c = cov(x, y, rowvar, dtype=dtype)\n",
      "C:\\Users\\ingsa\\AppData\\Roaming\\Python\\Python39\\site-packages\\numpy\\lib\\function_base.py:2705: RuntimeWarning: divide by zero encountered in divide\n",
      "  c *= np.true_divide(1, fact)\n"
     ]
    },
    {
     "name": "stdout",
     "output_type": "stream",
     "text": [
      "Si rentaste la prenda 124553, te pueden interesar las siguientes prendas:\n",
      "         Correlation  rating_counts\n",
      "item_id                            \n",
      "259136           1.0             51\n",
      "130259           1.0            913\n",
      "1840637          1.0             57\n",
      "160346           1.0             71\n",
      "144931           1.0            166\n",
      "1159412          1.0             34\n",
      "1147823          1.0             71\n",
      "1036192          1.0             45\n",
      "155381           1.0            150\n"
     ]
    }
   ],
   "source": [
    "clothes_recommend(124553,11)"
   ]
  }
 ],
 "metadata": {
  "kernelspec": {
   "display_name": "Python 3 (ipykernel)",
   "language": "python",
   "name": "python3"
  },
  "language_info": {
   "codemirror_mode": {
    "name": "ipython",
    "version": 3
   },
   "file_extension": ".py",
   "mimetype": "text/x-python",
   "name": "python",
   "nbconvert_exporter": "python",
   "pygments_lexer": "ipython3",
   "version": "3.9.13"
  }
 },
 "nbformat": 4,
 "nbformat_minor": 5
}
